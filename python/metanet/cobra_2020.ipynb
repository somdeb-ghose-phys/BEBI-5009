{
 "cells": [
  {
   "cell_type": "markdown",
   "metadata": {},
   "source": [
    "## Databases of models:\n",
    "1. Biomodels https://www.ebi.ac.uk/biomodels-main/publmodels\n",
    "2. BiGG http://bigg.ucsd.edu/\n",
    "3. HMA http://www.metabolicatlas.org\n",
    "\n",
    "## Documentation of cobrapy and cobra toolbox\n",
    "1. https://cobrapy.readthedocs.io/en/stable/index.html\n",
    "2. https://opencobra.github.io/cobratoolbox/stable/\n",
    "\n",
    "## Solvers\n",
    "1. Gurobi http://www.gurobi.com\n",
    "2. cplex https://www.ibm.com/products/ilog-cplex-optimization-studio\n",
    "3. scipy\n",
    "\n",
    "To install cobrapy, run the code below if you have installed pip."
   ]
  },
  {
   "cell_type": "code",
   "execution_count": 5,
   "metadata": {},
   "outputs": [
    {
     "output_type": "stream",
     "name": "stdout",
     "text": "Requirement already satisfied: cobra in c:\\users\\user\\anaconda3\\lib\\site-packages (0.17.1)\nRequirement already satisfied: python-libsbml-experimental==5.18.0 in c:\\users\\user\\anaconda3\\lib\\site-packages (from cobra) (5.18.0)\nRequirement already satisfied: optlang>=1.4.2 in c:\\users\\user\\anaconda3\\lib\\site-packages (from cobra) (1.4.3)\nRequirement already satisfied: future in c:\\users\\user\\anaconda3\\lib\\site-packages (from cobra) (0.18.2)\nRequirement already satisfied: swiglpk in c:\\users\\user\\anaconda3\\lib\\site-packages (from cobra) (4.65.0)\nRequirement already satisfied: depinfo in c:\\users\\user\\anaconda3\\lib\\site-packages (from cobra) (1.4.0)\nRequirement already satisfied: numpy>=1.13 in c:\\users\\user\\anaconda3\\lib\\site-packages (from cobra) (1.18.1)\nRequirement already satisfied: ruamel.yaml>=0.16 in c:\\users\\user\\anaconda3\\lib\\site-packages (from cobra) (0.16.10)\nRequirement already satisfied: six in c:\\users\\user\\anaconda3\\lib\\site-packages (from cobra) (1.14.0)\nRequirement already satisfied: pandas>=0.17.0 in c:\\users\\user\\anaconda3\\lib\\site-packages (from cobra) (1.0.1)\nRequirement already satisfied: sympy>=1.0.0 in c:\\users\\user\\anaconda3\\lib\\site-packages (from optlang>=1.4.2->cobra) (1.4)\nRequirement already satisfied: pipdeptree in c:\\users\\user\\anaconda3\\lib\\site-packages (from depinfo->cobra) (0.13.1)\nRequirement already satisfied: ruamel.yaml.clib>=0.1.2; platform_python_implementation == \"CPython\" and python_version < \"3.9\" in c:\\users\\user\\anaconda3\\lib\\site-packages (from ruamel.yaml>=0.16->cobra) (0.2.0)\nRequirement already satisfied: python-dateutil>=2.6.1 in c:\\users\\user\\anaconda3\\lib\\site-packages (from pandas>=0.17.0->cobra) (2.8.1)\nRequirement already satisfied: pytz>=2017.2 in c:\\users\\user\\anaconda3\\lib\\site-packages (from pandas>=0.17.0->cobra) (2019.3)\nRequirement already satisfied: mpmath>=0.19 in c:\\users\\user\\anaconda3\\lib\\site-packages (from sympy>=1.0.0->optlang>=1.4.2->cobra) (1.1.0)\nRequirement already satisfied: pip>=6.0.0 in c:\\users\\user\\anaconda3\\lib\\site-packages (from pipdeptree->depinfo->cobra) (20.0.2)\nRequirement already satisfied: pytest in c:\\users\\user\\anaconda3\\lib\\site-packages (5.3.5)\nRequirement already satisfied: py>=1.5.0 in c:\\users\\user\\anaconda3\\lib\\site-packages (from pytest) (1.8.1)\nRequirement already satisfied: packaging in c:\\users\\user\\anaconda3\\lib\\site-packages (from pytest) (20.1)\nRequirement already satisfied: attrs>=17.4.0 in c:\\users\\user\\anaconda3\\lib\\site-packages (from pytest) (19.3.0)\nRequirement already satisfied: more-itertools>=4.0.0 in c:\\users\\user\\anaconda3\\lib\\site-packages (from pytest) (8.2.0)\nRequirement already satisfied: pluggy<1.0,>=0.12 in c:\\users\\user\\anaconda3\\lib\\site-packages (from pytest) (0.13.1)\nRequirement already satisfied: wcwidth in c:\\users\\user\\anaconda3\\lib\\site-packages (from pytest) (0.1.8)\nRequirement already satisfied: importlib-metadata>=0.12 in c:\\users\\user\\anaconda3\\lib\\site-packages (from pytest) (1.5.0)\nRequirement already satisfied: atomicwrites>=1.0 in c:\\users\\user\\anaconda3\\lib\\site-packages (from pytest) (1.3.0)\nRequirement already satisfied: colorama in c:\\users\\user\\anaconda3\\lib\\site-packages (from pytest) (0.4.3)\nRequirement already satisfied: six in c:\\users\\user\\anaconda3\\lib\\site-packages (from packaging->pytest) (1.14.0)\nRequirement already satisfied: pyparsing>=2.0.2 in c:\\users\\user\\anaconda3\\lib\\site-packages (from packaging->pytest) (2.4.6)\nRequirement already satisfied: zipp>=0.5 in c:\\users\\user\\anaconda3\\lib\\site-packages (from importlib-metadata>=0.12->pytest) (2.2.0)\n"
    }
   ],
   "source": [
    "# install cobrapy\n",
    "!pip install cobra\n",
    "!pip install pytest"
   ]
  },
  {
   "cell_type": "code",
   "execution_count": 6,
   "metadata": {},
   "outputs": [],
   "source": [
    "# load modules\n",
    "from cobra.test import create_test_model\n",
    "import cobra"
   ]
  },
  {
   "cell_type": "code",
   "execution_count": 7,
   "metadata": {},
   "outputs": [
    {
     "output_type": "execute_result",
     "data": {
      "text/plain": "'0.17.1'"
     },
     "metadata": {},
     "execution_count": 7
    }
   ],
   "source": [
    "# check cobra version\n",
    "cobra.__version__"
   ]
  },
  {
   "cell_type": "code",
   "execution_count": 4,
   "metadata": {},
   "outputs": [
    {
     "output_type": "stream",
     "name": "stdout",
     "text": "Help on function create_test_model in module cobra.test:\n\ncreate_test_model(model_name='salmonella')\n    Returns a cobra model for testing\n    \n    model_name: str\n        One of 'ecoli', 'textbook', or 'salmonella', or the\n        path to a pickled cobra.Model\n\n"
    }
   ],
   "source": [
    "help(create_test_model)"
   ]
  },
  {
   "cell_type": "code",
   "execution_count": 8,
   "metadata": {},
   "outputs": [
    {
     "output_type": "stream",
     "name": "stdout",
     "text": "Using license file C:\\Users\\user\\gurobi.lic\nAcademic license - for non-commercial use only\n"
    }
   ],
   "source": [
    "# load a cobra model that was downloaded with the cobrapy package\n",
    "model = create_test_model(\"textbook\")"
   ]
  },
  {
   "cell_type": "code",
   "execution_count": null,
   "metadata": {},
   "outputs": [],
   "source": [
    "model"
   ]
  },
  {
   "cell_type": "markdown",
   "metadata": {},
   "source": [
    "### You can also load a exist model by using io functions like load_matlab_model, read_sbml_model ..."
   ]
  },
  {
   "cell_type": "code",
   "execution_count": null,
   "metadata": {},
   "outputs": [],
   "source": [
    "## io functions\n",
    "\n",
    "# cobra.io.read_sbml_model\n",
    "# cobra.io.load_json_model\n",
    "# cobra.io.load_matlab_model\n",
    "# cobra.io.load_yaml_model"
   ]
  },
  {
   "cell_type": "markdown",
   "metadata": {},
   "source": [
    "## Components of model"
   ]
  },
  {
   "cell_type": "markdown",
   "metadata": {},
   "source": [
    "### Model (cobra.core.model.Model)\n",
    "-------------\n",
    "#### attribute:\n",
    "<table>\n",
    "    <tr>\n",
    "        <th>Attribute</th>\n",
    "        <th>Type</th>\n",
    "        <th>Description</th>\n",
    "    </tr>\n",
    "    <tr>\n",
    "        <td>reactions</td>\n",
    "        <td>DictList</td>\n",
    "        <td>A DictList where the key is the reaction identifier and the value a Reaction</td>\n",
    "    </tr>\n",
    "    <tr>\n",
    "        <td>metabolites</td>\n",
    "        <td>DictList</td>\n",
    "        <td>A DictList where the key is the metabolite identifier and the value a Metabolite</td>\n",
    "    </tr>\n",
    "    <tr>\n",
    "        <td>genes</td>\n",
    "        <td>DictList</td>\n",
    "        <td>A DictList where the key is the gene identifier and the value a Gene</td>\n",
    "    </tr>\n",
    "    <tr>\n",
    "        <td>solution</td>\n",
    "        <td>cobra.Solution</td>\n",
    "        <td>The last obtained solution from optimizing the model.</td>\n",
    "    </tr>\n",
    "    <tr>\n",
    "        <td>boundary</td>\n",
    "        <td>DictList</td>\n",
    "        <td>Boundary reactions in the model. Reactions that either have no substrate or product.</td>\n",
    "    </tr>\n",
    "    <tr>\n",
    "        <td>exchanges</td>\n",
    "        <td>DictList</td>\n",
    "        <td>Exchange reactions in model. Reactions that exchange mass with the exterior. Uses annotations and heuristics to exclude non-exchanges such as sink reactions.</td>\n",
    "    </tr>\n",
    "    <tr>\n",
    "        <td>demands</td>\n",
    "        <td>DictList</td>\n",
    "        <td>Demand reactions in model. Irreversible reactions that accumulate or consume a metabolite in the inside of the model.</td>\n",
    "    </tr>\n",
    "    <tr>\n",
    "        <td>sinks</td>\n",
    "        <td>DictList</td>\n",
    "        <td>Sink reactions in model. Reversible reactions that accumulate or consume a metabolite in the inside of the model.</td>\n",
    "    </tr>\n",
    "    <tr>\n",
    "        <td>objective</td>\n",
    "        <td>optlang.interface.Objective</td>\n",
    "        <td>Before introduction of the optlang based problems, this function returned the objective reactions as a list. With optlang, the objective is not limited a simple linear summation of individual reaction fluxes, making that return value ambiguous. Henceforth, use cobra.util.solver.linear_reaction_coefficients to get a dictionary of reactions with their linear coefficients (empty if there are none)<br>\n",
    "The set value can be dictionary (reactions as keys, linear coefficients as values), string (reaction identifier), int (reaction index), Reaction or problem.Objective or sympy expression directly interpreted as objectives.</td>\n",
    "    </tr>\n",
    "</table>\n",
    "\n",
    "#### methods:\n",
    "<table>\n",
    "    <tr>\n",
    "        <th>Method</th>\n",
    "        <th>Parameters</th>\n",
    "        <th>Return type</th>\n",
    "        <th>Description</th>\n",
    "    </tr>\n",
    "    <tr>\n",
    "        <td>copy</td>\n",
    "        <td>None</td>\n",
    "        <td>cobra.Model</td>\n",
    "        <td>Provides a partial ‘deepcopy’ of the Model. All of the Metabolite, Gene, and Reaction objects are created anew but in a faster fashion than deepcopy</td>\n",
    "    </tr>\n",
    "    <tr>\n",
    "        <td>add_metabolites</td>\n",
    "        <td>metabolite_list (list)</td>\n",
    "        <td>None</td>\n",
    "        <td>Will add a list of metabolites to the model object and add new constraints accordingly.</td>\n",
    "    </tr>\n",
    "    <tr>\n",
    "        <td>remove_metabolites</td>\n",
    "        <td>metabolite_list (list)<br>\n",
    "            destructive (bool)\n",
    "        </td>\n",
    "        <td>None</td>\n",
    "        <td>Remove a list of metabolites from the the object.</td>\n",
    "    </tr>\n",
    "    <tr>\n",
    "        <td>add_boundary</td>\n",
    "        <td>metabolite (cobra.Metabolite) <br>\n",
    "            type (str, {\"exchange\", \"demand\", \"sink\"})<br>\n",
    "            reaction_id (str, optional)<br>\n",
    "            lb (float, optional)<br>\n",
    "            ub (float, optional)<br>\n",
    "            sbo_term (str, optional)</td>\n",
    "        <td>cobra.Reaction</td>\n",
    "        <td>Add a boundary reaction for a given metabolite.<br>\n",
    "There are three different types of pre-defined boundary reactions: exchange, demand, and sink reactions. An exchange reaction is a reversible, unbalanced reaction that adds to or removes an extracellular metabolite from the extracellular compartment. A demand reaction is an irreversible reaction that consumes an intracellular metabolite. A sink is similar to an exchange but specifically for intracellular metabolites.<br>\n",
    "If you set the reaction type to something else, you must specify the desired identifier of the created reaction along with its upper and lower bound. The name will be given by the metabolite name and the given type.</td>\n",
    "    </tr>\n",
    "    <tr>\n",
    "        <td>add_reactions</td>\n",
    "        <td>reaction_list (list) </td>\n",
    "        <td>None</td>\n",
    "        <td>Add reactions to the model.<br>\n",
    "            Reactions with identifiers identical to a reaction already in the model are ignored.</td>\n",
    "    </tr>\n",
    "    <tr>\n",
    "        <td>remove_reactions</td>\n",
    "        <td>reaction_list (list)<br>\n",
    "            remove_orphans (bool)\n",
    "        </td>\n",
    "        <td>None</td>\n",
    "        <td>Remove reactions from the model.</td>\n",
    "    </tr>\n",
    "    <tr>\n",
    "        <td>slim_optimize</td>\n",
    "        <td>error_value (float, None)<br>\n",
    "            message (string)\n",
    "        </td>\n",
    "        <td>float</td>\n",
    "        <td>Optimize model without creating a solution object.</td>\n",
    "    </tr>\n",
    "    <tr>\n",
    "        <td>optimize</td>\n",
    "        <td>objective_sense ({None, 'maximize' 'minimize'}, optional)<br>\n",
    "            raise_error (bool)\n",
    "        </td>\n",
    "        <td>cobra.Solution</td>\n",
    "        <td>Optimize the model using flux balance analysis.</td>\n",
    "    </tr>\n",
    "    <tr>\n",
    "        <td>summary</td>\n",
    "        <td>solution (cobra.Solution, optional)<br>\n",
    "            threshold (float, optional)<br>\n",
    "            fva (pandas.DataFrame or float, optional)<br>\n",
    "            names (bool, optional)<br>\n",
    "            float_format (callable, optional)\n",
    "        </td>\n",
    "        <td>cobra.ModelSummary</td>\n",
    "        <td>Create a summary of the exchange fluxes of the model.</td>\n",
    "    </tr>\n",
    "</table>\n",
    "\n",
    "\n",
    "<style>\n",
    "th {\n",
    "    border-bottom: dotted #696969 2px;\n",
    "}\n",
    "\n",
    "td {\n",
    "    border-bottom: solid #999999 2px;\n",
    "    padding: 5px;\n",
    "}\n",
    "\n",
    "table {\n",
    "     padding: 10px; \n",
    "     border: solid #696969 3px; \n",
    "     width: 100%;\n",
    "}\n",
    "</style>"
   ]
  },
  {
   "cell_type": "code",
   "execution_count": 9,
   "metadata": {},
   "outputs": [
    {
     "output_type": "stream",
     "name": "stdout",
     "text": "95 Reactions in the model\n------------------\nACALD: acald_c + coa_c + nad_c <=> accoa_c + h_c + nadh_c, associated with mhpF or adhE\nACALDt: acald_e <=> acald_c, associated with G_s0001\nACKr: ac_c + atp_c <=> actp_c + adp_c, associated with ackA or tdcD or purT\nACONTa: cit_c <=> acon_C_c + h2o_c, associated with acnB or acnA\nACONTb: acon_C_c + h2o_c <=> icit_c, associated with acnB or acnA\nACt2r: ac_e + h_e <=> ac_c + h_c, associated with \nADK1: amp_c + atp_c <=> 2.0 adp_c, associated with adk\nAKGDH: akg_c + coa_c + nad_c --> co2_c + nadh_c + succoa_c, associated with sucA and lpd and sucB\nAKGt2r: akg_e + h_e <=> akg_c + h_c, associated with kgtP\nALCD2x: etoh_c + nad_c <=> acald_c + h_c + nadh_c, associated with adhP or frmA or adhE\n\n72 Metabolites in the model\n------------------\n13dpg_c: 3-Phospho-D-glyceroyl phosphate\n2pg_c: D-Glycerate 2-phosphate\n3pg_c: 3-Phospho-D-glycerate\n6pgc_c: 6-Phospho-D-gluconate\n6pgl_c: 6-phospho-D-glucono-1,5-lactone\nac_c: Acetate\nac_e: Acetate\nacald_c: Acetaldehyde\nacald_e: Acetaldehyde\naccoa_c: Acetyl-CoA\n\n137 Genes in the model\n------------------\nb1241: adhE\nb0351: mhpF\ns0001: G_s0001\nb3115: tdcD\nb1849: purT\nb2296: ackA\nb1276: acnA\nb0118: acnB\nb0474: adk\nb0116: lpd\n"
    }
   ],
   "source": [
    "# components of a cobra Model\n",
    "\n",
    "print(f\"{len(model.reactions)} Reactions in the model\\n------------------\")\n",
    "for r in model.reactions[:10]:\n",
    "    print(f\"{r.id}: {r.reaction}, associated with {r.gene_name_reaction_rule}\")\n",
    "print()\n",
    "\n",
    "\n",
    "print(f\"{len(model.metabolites)} Metabolites in the model\\n------------------\")\n",
    "for m in model.metabolites[:10]:\n",
    "    print(f\"{m.id}: {m.name}\")\n",
    "print()\n",
    "\n",
    "\n",
    "print(f\"{len(model.genes)} Genes in the model\\n------------------\")\n",
    "for g in model.genes[:10]:\n",
    "    print(f\"{g.id}: {g.name}\")"
   ]
  },
  {
   "cell_type": "code",
   "execution_count": 10,
   "metadata": {},
   "outputs": [
    {
     "output_type": "stream",
     "name": "stdout",
     "text": "Read LP format model from file C:\\Users\\user\\AppData\\Local\\Temp\\tmpbcqroj4n.lp\nReading time = 0.00 seconds\n: 72 rows, 190 columns, 720 nonzeros\n"
    },
    {
     "output_type": "execute_result",
     "data": {
      "text/plain": "(96, 95)"
     },
     "metadata": {},
     "execution_count": 10
    }
   ],
   "source": [
    "# deepcopy a cobra model\n",
    "model_copy = model.copy()\n",
    "\n",
    "new_reaction = cobra.Reaction(\"new_rxn_1\")\n",
    "model_copy.add_reactions([new_reaction])\n",
    "\n",
    "len(model_copy.reactions), len(model.reactions)"
   ]
  },
  {
   "cell_type": "code",
   "execution_count": 13,
   "metadata": {},
   "outputs": [
    {
     "name": "stdout",
     "output_type": "stream",
     "text": [
      "Maximize\n",
      "1.0*Biomass_Ecoli_core - 1.0*Biomass_Ecoli_core_reverse_2cdba\n"
     ]
    }
   ],
   "source": [
    "# model objective\n",
    "print(model.objective)"
   ]
  },
  {
   "cell_type": "code",
   "execution_count": 14,
   "metadata": {},
   "outputs": [
    {
     "data": {
      "text/html": [
       "\n",
       "        <table>\n",
       "            <tr>\n",
       "                <td><strong>Reaction identifier</strong></td><td>Biomass_Ecoli_core</td>\n",
       "            </tr><tr>\n",
       "                <td><strong>Name</strong></td><td>Biomass Objective Function with GAM</td>\n",
       "            </tr><tr>\n",
       "                <td><strong>Memory address</strong></td>\n",
       "                <td>0x0124369ba8</td>\n",
       "            </tr><tr>\n",
       "                <td><strong>Stoichiometry</strong></td>\n",
       "                <td>\n",
       "                    <p style='text-align:right'>1.496 3pg_c + 3.7478 accoa_c + 59.81 atp_c + 0.361 e4p_c + 0.0709 f6p_c + 0.129 g3p_c + 0.205 g6p_c + 0.2557 gln__L_c + 4.9414 glu__L_c + 59.81 h2o_c + 3.547 nad_c + 13.0279 nadph_c + 1.7867 oaa_c ...</p>\n",
       "                    <p style='text-align:right'>1.496 3-Phospho-D-glycerate + 3.7478 Acetyl-CoA + 59.81 ATP + 0.361 D-Erythrose 4-phosphate + 0.0709 D-Fructose 6-phosphate + 0.129 Glyceraldehyde 3-phosphate + 0.205 D-Glucose 6-phosphate + 0.2557...</p>\n",
       "                </td>\n",
       "            </tr><tr>\n",
       "                <td><strong>GPR</strong></td><td></td>\n",
       "            </tr><tr>\n",
       "                <td><strong>Lower bound</strong></td><td>0.0</td>\n",
       "            </tr><tr>\n",
       "                <td><strong>Upper bound</strong></td><td>1000.0</td>\n",
       "            </tr>\n",
       "        </table>\n",
       "        "
      ],
      "text/plain": [
       "<Reaction Biomass_Ecoli_core at 0x124369ba8>"
      ]
     },
     "execution_count": 14,
     "metadata": {},
     "output_type": "execute_result"
    }
   ],
   "source": [
    "# check the reaction in the objective function\n",
    "model.reactions.get_by_id(\"Biomass_Ecoli_core\")"
   ]
  },
  {
   "cell_type": "markdown",
   "metadata": {},
   "source": [
    "### Reactions (cobra.core.reaction.Reaction)\n",
    "-------------\n",
    "#### attribute:\n",
    "\n",
    "<table>\n",
    "    <tr>\n",
    "        <th>Attribute</th>\n",
    "        <th>Type</th>\n",
    "        <th>Description</th>\n",
    "    </tr>\n",
    "    <tr> \n",
    "        <td>id</td>\n",
    "        <td>string</td>\n",
    "        <td>The identifier to associate with this reaction</td>\n",
    "    </tr>\n",
    "    <tr> \n",
    "        <td>name</td>\n",
    "        <td>string</td>\n",
    "        <td>A human readable name for the reaction</td>\n",
    "    </tr>\n",
    "    <tr> \n",
    "        <td>reaction</td>\n",
    "        <td>string</td>\n",
    "        <td>Human readable reaction string</td>\n",
    "    </tr>\n",
    "    <tr> \n",
    "        <td>lower_bound</td>\n",
    "        <td>float</td>\n",
    "        <td>The lower flux bound</td>\n",
    "    </tr>\n",
    "    <tr> \n",
    "        <td>upper_bound</td>\n",
    "        <td>float</td>\n",
    "        <td>The upper flux bound</td>\n",
    "    </tr>\n",
    "    <tr> \n",
    "        <td>bounds</td>\n",
    "        <td>tupple</td>\n",
    "        <td>The upper and the lower flux bounds</td>\n",
    "    </tr>\n",
    "    <tr> \n",
    "        <td>subsystem</td>\n",
    "        <td>string</td>\n",
    "        <td>Subsystem where the reaction is meant to occur</td>\n",
    "    </tr>\n",
    "    <tr>\n",
    "        <td>objective_coefficient</td>\n",
    "        <td>float</td>\n",
    "        <td>The coefficient for this reaction in a linear objective</td>\n",
    "    </tr>\n",
    "    <tr>\n",
    "        <td>flux_expression</td>\n",
    "        <td>sympy expression</td>\n",
    "        <td>Forward flux expression</td>\n",
    "    </tr>\n",
    "    <tr>\n",
    "        <td>flux</td>\n",
    "        <td>float</td>\n",
    "        <td>The flux value in the most recent solution.</td>\n",
    "    </tr>\n",
    "    <tr>\n",
    "        <td>reduced_cost</td>\n",
    "        <td>float</td>\n",
    "        <td>The reduced cost in the most recent solution.</td>\n",
    "    </tr>\n",
    "    <tr>\n",
    "        <td>metabolites</td>\n",
    "        <td>dict (cobra.metabolite: float)</td>\n",
    "        <td>The dict of metabolites involved in the reaction.</td>\n",
    "    </tr>\n",
    "    <tr>\n",
    "        <td>genes</td>\n",
    "        <td>frozenset (cobra.gene)</td>\n",
    "        <td>The frozenset of genes involved in the reaction.</td>\n",
    "    </tr>\n",
    "    <tr>\n",
    "        <td>gene_reaction_rule</td>\n",
    "        <td>string</td>\n",
    "        <td>The boolean representation of the gene requirements for the reaction to be active.</td>\n",
    "    </tr>\n",
    "</table>\n",
    "\n",
    "#### methods:\n",
    "<table>\n",
    "    <tr>\n",
    "        <th>Method</th>\n",
    "        <th>Parameters</th>\n",
    "        <th>Return type</th>\n",
    "        <th>Description</th>\n",
    "    </tr>\n",
    "    <tr>\n",
    "        <td> remove_from_model </td>\n",
    "        <td> remove_orphans=False (bool)</td>\n",
    "        <td> None </td>\n",
    "        <td> Removes the reaction from a model. </td>\n",
    "    </tr>\n",
    "    <tr>\n",
    "        <td> get_coefficient </td>\n",
    "        <td> metabolite_id (str or cobra.Metabolite)</td>\n",
    "        <td> float </td>\n",
    "        <td> Return the stoichiometric coefficient of a metabolite. </td>\n",
    "    </tr>\n",
    "    <tr>\n",
    "        <td> get_coefficients </td>\n",
    "        <td> metabolite_ids (iterable) </td>\n",
    "        <td> map </td>\n",
    "        <td> Return the stoichiometric coefficients for a list of metabolites. </td>\n",
    "    </tr>\n",
    "    <tr>\n",
    "        <td> add_metabolites </td>\n",
    "        <td> metabolites_to_add (dict)\n",
    "        <br>combine (bool)\n",
    "        <br>reversibly (bool) </td>\n",
    "        <td> None </td>\n",
    "        <td> Add metabolites and stoichiometric coefficients to the reaction. If the final coefficient for a metabolite is 0 then it is removed from the reaction. </td>\n",
    "    </tr>\n",
    "    <tr>\n",
    "        <td> subtract_metabolites </td>\n",
    "        <td> metabolites (dict)<br>\n",
    "         combine (bool)<br> \n",
    "         reversibly (bool) </td>\n",
    "        <td> None </td>\n",
    "        <td> Subtract metabolites from a reaction.<br>\n",
    "        That means add the metabolites with -1*coefficient. If the final coefficient for a metabolite is 0 then the metabolite is removed from the reaction. </td>\n",
    "    </tr>\n",
    "    <tr>\n",
    "        <td> build_reaction_string </td>\n",
    "        <td> use_metabolite_names=False (bool) </td>\n",
    "        <td> str </td>\n",
    "        <td> Generate a human readable reaction string </td>\n",
    "    </tr>\n",
    "    <tr>\n",
    "        <td> build_reaction_from_string </td>\n",
    "        <td> reaction_str (string) <br>\n",
    "          verbose (bool)<br> \n",
    "          fwd_arrow (re.compile)<br>\n",
    "          rev_arrow (re.compile)<br>\n",
    "          reversible_arrow (re.compile) <br>\n",
    "          term_split (string)\n",
    "        </td>\n",
    "        <td> None </td>\n",
    "        <td> Builds reaction from reaction equation reaction_str using parser<br>\n",
    "        Takes a string and using the specifications supplied in the optional arguments infers a set of metabolites, metabolite compartments and stoichiometries for the reaction. It also infers the reversibility of the reaction from the reaction arrow. </td>\n",
    "    </tr>\n",
    "    <tr>\n",
    "        <td> knock_out </td>\n",
    "        <td> None </td>\n",
    "        <td> None </td>\n",
    "        <td> Knockout reaction by setting its bounds to zero. </td>\n",
    "    </tr>\n",
    "</table>\n",
    "\n",
    "<style>\n",
    "th {\n",
    "    border-bottom: dotted #696969 2px;\n",
    "}\n",
    "\n",
    "td {\n",
    "    border-bottom: solid #999999 2px;\n",
    "    padding: 5px;\n",
    "}\n",
    "\n",
    "table {\n",
    "     padding: 10px; \n",
    "     border: solid #696969 3px; \n",
    "     width: 100%;\n",
    "}\n",
    "</style>"
   ]
  },
  {
   "cell_type": "code",
   "execution_count": 11,
   "metadata": {},
   "outputs": [
    {
     "output_type": "stream",
     "name": "stdout",
     "text": "[<Reaction new_rxn_1 at 0x233bd4a3550>, <Reaction R1 at 0x233bdbc2dd8>, <Reaction R2 at 0x233bdbc23c8>, <Reaction R3 at 0x233bdbc2400>, <Reaction R4 at 0x233bdbc2fd0>, <Reaction R5 at 0x233bdbc2a20>, <Reaction R6 at 0x233bdbc2b38>, <Reaction R7 at 0x233bdbc2470>, <Reaction R8 at 0x233bdbc2748>, <Reaction R9 at 0x233bdbc2b70>]\nNow the model has 105 reactions\nNow the model has 96 reactions\n"
    }
   ],
   "source": [
    "# create new reactions\n",
    "# cobra.Reaction(id=...)\n",
    "new_rxns = [cobra.Reaction(id=f\"R{i}\", name=f\"reaction No.{i}\", lower_bound=0, upper_bound=1000) for i in range(1, 10)]\n",
    "\n",
    "# add reactions to a model\n",
    "model_copy.add_reactions(new_rxns)\n",
    "print(model_copy.reactions[-10:])\n",
    "print(f\"Now the model has {len(model_copy.reactions)} reactions\")\n",
    "\n",
    "# remove reactions from a model\n",
    "model_copy.remove_reactions(new_rxns)\n",
    "print(f\"Now the model has {len(model_copy.reactions)} reactions\")"
   ]
  },
  {
   "cell_type": "code",
   "execution_count": 13,
   "metadata": {},
   "outputs": [
    {
     "output_type": "stream",
     "name": "stdout",
     "text": "ACALD: acald_c + coa_c + nad_c <=> accoa_c + h_c + nadh_c\nACALDt: acald_e <=> acald_c \n\nID: ACALD\n        Name: acetaldehyde dehydrogenase (acetylating)\n        Lower bound: -1000.0\n        Upper bound: 1000.0\n        Subsystem: \n        Metabolites: {<Metabolite acald_c at 0x233ba6bcf98>: -1.0, <Metabolite coa_c at 0x233ba6c8c88>: -1.0, <Metabolite nad_c at 0x233ba6e12b0>: -1.0, <Metabolite accoa_c at 0x233ba6c1518>: 1.0, <Metabolite h_c at 0x233ba6db198>: 1.0, <Metabolite nadh_c at 0x233ba6e15f8>: 1.0}\n        Genes: frozenset({<Gene b1241 at 0x233ba703c88>, <Gene b0351 at 0x233ba703c50>})\n        Gene-reaction rule: b0351 or b1241\n"
    }
   ],
   "source": [
    "# get a reaction from a model\n",
    "print(model.reactions[0])\n",
    "print(model.reactions.get_by_id(\"ACALDt\"),\"\\n\")\n",
    "\n",
    "\n",
    "# reactions attributes\n",
    "rxn = model.reactions.get_by_id(\"ACALD\")\n",
    "print(f\"ID: {rxn.id}\\n\\\n",
    "        Name: {rxn.name}\\n\\\n",
    "        Lower bound: {rxn.lower_bound}\\n\\\n",
    "        Upper bound: {rxn.upper_bound}\\n\\\n",
    "        Subsystem: {rxn.subsystem}\\n\\\n",
    "        Metabolites: {rxn.metabolites}\\n\\\n",
    "        Genes: {rxn.genes}\\n\\\n",
    "        Gene-reaction rule: {rxn.gene_reaction_rule}\")"
   ]
  },
  {
   "cell_type": "code",
   "execution_count": 14,
   "metadata": {},
   "outputs": [
    {
     "output_type": "execute_result",
     "data": {
      "text/plain": "'acald_c + coa_c + nad_c <=> accoa_c + h_c + nadh_c'"
     },
     "metadata": {},
     "execution_count": 14
    }
   ],
   "source": [
    "rxn.build_reaction_string()"
   ]
  },
  {
   "cell_type": "code",
   "execution_count": 28,
   "metadata": {},
   "outputs": [
    {
     "output_type": "execute_result",
     "data": {
      "text/plain": "<Reaction dummy_rxn at 0x233bdbb35f8>",
      "text/html": "\n        <table>\n            <tr>\n                <td><strong>Reaction identifier</strong></td><td>dummy_rxn</td>\n            </tr><tr>\n                <td><strong>Name</strong></td><td></td>\n            </tr><tr>\n                <td><strong>Memory address</strong></td>\n                <td>0x0233bdbb35f8</td>\n            </tr><tr>\n                <td><strong>Stoichiometry</strong></td>\n                <td>\n                    <p style='text-align:right'> --> </p>\n                    <p style='text-align:right'> --> </p>\n                </td>\n            </tr><tr>\n                <td><strong>GPR</strong></td><td></td>\n            </tr><tr>\n                <td><strong>Lower bound</strong></td><td>0.0</td>\n            </tr><tr>\n                <td><strong>Upper bound</strong></td><td>1000.0</td>\n            </tr>\n        </table>\n        "
     },
     "metadata": {},
     "execution_count": 28
    }
   ],
   "source": [
    "new_rxn = cobra.Reaction(\"dummy_rxn\")\n",
    "model_copy.add_reactions([new_rxn])\n",
    "new_rxn"
   ]
  },
  {
   "cell_type": "code",
   "execution_count": 29,
   "metadata": {},
   "outputs": [
    {
     "output_type": "execute_result",
     "data": {
      "text/plain": "<Reaction dummy_rxn at 0x233bdbb35f8>",
      "text/html": "\n        <table>\n            <tr>\n                <td><strong>Reaction identifier</strong></td><td>dummy_rxn</td>\n            </tr><tr>\n                <td><strong>Name</strong></td><td></td>\n            </tr><tr>\n                <td><strong>Memory address</strong></td>\n                <td>0x0233bdbb35f8</td>\n            </tr><tr>\n                <td><strong>Stoichiometry</strong></td>\n                <td>\n                    <p style='text-align:right'>acald_c + coa_c + nad_c --> accoa_c + h_c + nadh_c</p>\n                    <p style='text-align:right'>Acetaldehyde + Coenzyme A + Nicotinamide adenine dinucleotide --> Acetyl-CoA + H+ + Nicotinamide adenine dinucleotide - reduced</p>\n                </td>\n            </tr><tr>\n                <td><strong>GPR</strong></td><td></td>\n            </tr><tr>\n                <td><strong>Lower bound</strong></td><td>0</td>\n            </tr><tr>\n                <td><strong>Upper bound</strong></td><td>1000.0</td>\n            </tr>\n        </table>\n        "
     },
     "metadata": {},
     "execution_count": 29
    }
   ],
   "source": [
    "# build a reaction by a human readable reaction string\n",
    "new_rxn.build_reaction_from_string(\"acald_c + coa_c + nad_c --> accoa_c + h_c + nadh_c\")\n",
    "new_rxn"
   ]
  },
  {
   "cell_type": "code",
   "execution_count": 30,
   "metadata": {},
   "outputs": [
    {
     "output_type": "execute_result",
     "data": {
      "text/plain": "<Reaction dummy_rxn at 0x233bdbb35f8>",
      "text/html": "\n        <table>\n            <tr>\n                <td><strong>Reaction identifier</strong></td><td>dummy_rxn</td>\n            </tr><tr>\n                <td><strong>Name</strong></td><td>R123</td>\n            </tr><tr>\n                <td><strong>Memory address</strong></td>\n                <td>0x0233bdbb35f8</td>\n            </tr><tr>\n                <td><strong>Stoichiometry</strong></td>\n                <td>\n                    <p style='text-align:right'>acald_c + coa_c + nad_c <=> accoa_c + h_c + nadh_c</p>\n                    <p style='text-align:right'>Acetaldehyde + Coenzyme A + Nicotinamide adenine dinucleotide <=> Acetyl-CoA + H+ + Nicotinamide adenine dinucleotide - reduced</p>\n                </td>\n            </tr><tr>\n                <td><strong>GPR</strong></td><td></td>\n            </tr><tr>\n                <td><strong>Lower bound</strong></td><td>-1</td>\n            </tr><tr>\n                <td><strong>Upper bound</strong></td><td>30</td>\n            </tr>\n        </table>\n        "
     },
     "metadata": {},
     "execution_count": 30
    }
   ],
   "source": [
    "# assign new values to the reaction attributes\n",
    "new_rxn.name = \"R123\"\n",
    "new_rxn.lower_bound, new_rxn.upper_bound = -1, 30\n",
    "new_rxn.subsystem = \"new subsystem\"\n",
    "new_rxn"
   ]
  },
  {
   "cell_type": "code",
   "execution_count": 31,
   "metadata": {},
   "outputs": [
    {
     "output_type": "execute_result",
     "data": {
      "text/plain": "(0, 0)"
     },
     "metadata": {},
     "execution_count": 31
    }
   ],
   "source": [
    "# knock out a reaction\n",
    "new_rxn.knock_out()\n",
    "new_rxn.bounds"
   ]
  },
  {
   "cell_type": "markdown",
   "metadata": {},
   "source": [
    "### Metabolites (cobra.core.metabolite.Metabolite)\n",
    "-------------\n",
    "#### attribute:\n",
    "<table>\n",
    "    <tr>\n",
    "        <th>Attribute</th>\n",
    "        <th>Type</th>\n",
    "        <th>Description</th>\n",
    "    </tr>\n",
    "    <tr>\n",
    "        <td>id</td>\n",
    "        <td>str</td>\n",
    "        <td>the identifier to associate with the metabolite</td>\n",
    "    </tr>\n",
    "    <tr>\n",
    "        <td>formula</td>\n",
    "        <td>str</td>\n",
    "        <td>Chemical formula (e.g. H2O)</td>\n",
    "    </tr>\n",
    "    <tr>\n",
    "        <td>name</td>\n",
    "        <td>str</td>\n",
    "        <td>A human readable name.</td>\n",
    "    </tr>\n",
    "    <tr>\n",
    "        <td>charge</td>\n",
    "        <td>float</td>\n",
    "        <td>The charge number of the metabolite</td>\n",
    "    </tr>\n",
    "    <tr>\n",
    "        <td>compartment</td>\n",
    "        <td>str or None</td>\n",
    "        <td>Compartment of the metabolite.</td>\n",
    "    </tr>\n",
    "    <tr>\n",
    "        <td>elements</td>\n",
    "        <td>dict</td>\n",
    "        <td>Dictionary of elements as keys and their count in the metabolite as integer.</td>\n",
    "    </tr>\n",
    "    <tr>\n",
    "        <td>shadow_price</td>\n",
    "        <td>float</td>\n",
    "        <td>The shadow price in the most recent solution.</td>\n",
    "    </tr>\n",
    "</table>\n",
    "\n",
    "#### method:\n",
    "<table>\n",
    "    <tr>\n",
    "        <th>Method</th>\n",
    "        <th>Parameters</th>\n",
    "        <th>Return type</th>\n",
    "        <th>Description</th>\n",
    "    </tr>\n",
    "    <tr>\n",
    "        <td>remove_from_model</td>\n",
    "        <td>destructive (bool)</td>\n",
    "        <td>None</td>\n",
    "        <td>Removes the association from self.model</td>\n",
    "    </tr>\n",
    "    <tr>\n",
    "        <td>summary</td>\n",
    "        <td>solution=None (cobra.Solution)<br>\n",
    "            threshold=0.01 (float)<br>\n",
    "            fva=None (pandas.DataFrame or float)<br>\n",
    "            names=False (bool)<br>\n",
    "            float_format='{:.3g}'.format (callable)</td>\n",
    "        <td>cobra.MetaboliteSummary</td>\n",
    "        <td>Create a summary of the producing and consuming fluxes.<br>\n",
    "            This method requires the model for which this metabolite is a part to be solved.</td>\n",
    "    </tr>\n",
    "</table>\n",
    "\n",
    "\n",
    "<style>\n",
    "th {\n",
    "    border-bottom: dotted #696969 2px;\n",
    "}\n",
    "\n",
    "td {\n",
    "    border-bottom: solid #999999 2px;\n",
    "    padding: 5px;\n",
    "}\n",
    "\n",
    "table {\n",
    "     padding: 10px; \n",
    "     border: solid #696969 3px; \n",
    "     width: 100%;\n",
    "}\n",
    "</style>"
   ]
  },
  {
   "cell_type": "code",
   "execution_count": 32,
   "metadata": {},
   "outputs": [
    {
     "output_type": "stream",
     "name": "stdout",
     "text": "{'C': 100, 'H': 200}\n"
    },
    {
     "output_type": "execute_result",
     "data": {
      "text/plain": "<Metabolite met_c at 0x233bdacb358>",
      "text/html": "\n        <table>\n            <tr>\n                <td><strong>Metabolite identifier</strong></td><td>met_c</td>\n            </tr><tr>\n                <td><strong>Name</strong></td><td>new metabolite</td>\n            </tr><tr>\n                <td><strong>Memory address</strong></td>\n                <td>0x0233bdacb358</td>\n            </tr><tr>\n                <td><strong>Formula</strong></td><td>C100H200</td>\n            </tr><tr>\n                <td><strong>Compartment</strong></td><td>c</td>\n            </tr><tr>\n                <td><strong>In 0 reaction(s)</strong></td><td>\n                    </td>\n            </tr>\n        </table>"
     },
     "metadata": {},
     "execution_count": 32
    }
   ],
   "source": [
    "# create a new metabolite\n",
    "new_met = cobra.Metabolite(id=\"met_c\", name=\"new metabolite\", formula=\"C100H200\", compartment=\"c\")\n",
    "print(new_met.elements)\n",
    "new_met"
   ]
  },
  {
   "cell_type": "code",
   "execution_count": 33,
   "metadata": {},
   "outputs": [
    {
     "output_type": "execute_result",
     "data": {
      "text/plain": "<Reaction dummy_rxn at 0x233bdbb35f8>",
      "text/html": "\n        <table>\n            <tr>\n                <td><strong>Reaction identifier</strong></td><td>dummy_rxn</td>\n            </tr><tr>\n                <td><strong>Name</strong></td><td>R123</td>\n            </tr><tr>\n                <td><strong>Memory address</strong></td>\n                <td>0x0233bdbb35f8</td>\n            </tr><tr>\n                <td><strong>Stoichiometry</strong></td>\n                <td>\n                    <p style='text-align:right'>acald_c + coa_c + nad_c --> accoa_c + h_c + met_c + nadh_c</p>\n                    <p style='text-align:right'>Acetaldehyde + Coenzyme A + Nicotinamide adenine dinucleotide --> Acetyl-CoA + H+ + new metabolite + Nicotinamide adenine dinucleotide - reduced</p>\n                </td>\n            </tr><tr>\n                <td><strong>GPR</strong></td><td></td>\n            </tr><tr>\n                <td><strong>Lower bound</strong></td><td>0</td>\n            </tr><tr>\n                <td><strong>Upper bound</strong></td><td>0</td>\n            </tr>\n        </table>\n        "
     },
     "metadata": {},
     "execution_count": 33
    }
   ],
   "source": [
    "# add a metabolite to a reaction\n",
    "new_rxn.add_metabolites({\n",
    "    new_met: 1\n",
    "})\n",
    "new_rxn"
   ]
  },
  {
   "cell_type": "code",
   "execution_count": 34,
   "metadata": {},
   "outputs": [
    {
     "output_type": "execute_result",
     "data": {
      "text/plain": "<Reaction dummy_rxn at 0x233bdbb35f8>",
      "text/html": "\n        <table>\n            <tr>\n                <td><strong>Reaction identifier</strong></td><td>dummy_rxn</td>\n            </tr><tr>\n                <td><strong>Name</strong></td><td>R123</td>\n            </tr><tr>\n                <td><strong>Memory address</strong></td>\n                <td>0x0233bdbb35f8</td>\n            </tr><tr>\n                <td><strong>Stoichiometry</strong></td>\n                <td>\n                    <p style='text-align:right'>acald_c + coa_c + nad_c --> accoa_c + h_c + nadh_c</p>\n                    <p style='text-align:right'>Acetaldehyde + Coenzyme A + Nicotinamide adenine dinucleotide --> Acetyl-CoA + H+ + Nicotinamide adenine dinucleotide - reduced</p>\n                </td>\n            </tr><tr>\n                <td><strong>GPR</strong></td><td></td>\n            </tr><tr>\n                <td><strong>Lower bound</strong></td><td>0</td>\n            </tr><tr>\n                <td><strong>Upper bound</strong></td><td>0</td>\n            </tr>\n        </table>\n        "
     },
     "metadata": {},
     "execution_count": 34
    }
   ],
   "source": [
    "# remove a metabolite from a reaction\n",
    "new_rxn.subtract_metabolites({\n",
    "    new_met: 1\n",
    "})\n",
    "new_rxn"
   ]
  },
  {
   "cell_type": "code",
   "execution_count": 35,
   "metadata": {},
   "outputs": [],
   "source": [
    "# remove metabolite from a model\n",
    "model_copy.remove_metabolites([model_copy.metabolites.get_by_id(\"met_c\")])"
   ]
  },
  {
   "cell_type": "code",
   "execution_count": 36,
   "metadata": {},
   "outputs": [
    {
     "output_type": "stream",
     "name": "stdout",
     "text": "13dpg_c\nmal__L_c \n\nID: mal__L_c\n        Name: L-Malate\n        Formula: C4H4O5\n        Charge: -2\n        Compartment: c\n        Reactions: frozenset({<Reaction MALt2_2 at 0x233ba7b4630>, <Reaction ME1 at 0x233ba7b4048>, <Reaction MDH at 0x233ba7b4668>, <Reaction MALS at 0x233ba7adba8>, <Reaction ME2 at 0x233ba7b4eb8>, <Reaction FUM at 0x233ba77cdd8>})\n\n"
    }
   ],
   "source": [
    "# get a metabolite from a model\n",
    "print(model.metabolites[0])\n",
    "print(model.metabolites.get_by_id(\"mal__L_c\"),\"\\n\")\n",
    "\n",
    "# metabolites property\n",
    "met = model.metabolites.get_by_id(\"mal__L_c\")\n",
    "print(f\"ID: {met.id}\\n\\\n",
    "        Name: {met.name}\\n\\\n",
    "        Formula: {met.formula}\\n\\\n",
    "        Charge: {met.charge}\\n\\\n",
    "        Compartment: {met.compartment}\\n\\\n",
    "        Reactions: {met.reactions}\\n\")"
   ]
  },
  {
   "cell_type": "code",
   "execution_count": 37,
   "metadata": {},
   "outputs": [
    {
     "output_type": "execute_result",
     "data": {
      "text/plain": "<cobra.core.summary.metabolite_summary.MetaboliteSummary at 0x233bcea7cc0>",
      "text/html": "<div>\n<style scoped>\n    .dataframe tbody tr th:only-of-type {\n        vertical-align: middle;\n    }\n\n    .dataframe tbody tr th {\n        vertical-align: top;\n    }\n\n    .dataframe thead th {\n        text-align: right;\n    }\n</style>\n<table border=\"1\" class=\"dataframe\">\n  <thead>\n    <tr style=\"text-align: right;\">\n      <th></th>\n      <th></th>\n      <th>PERCENT</th>\n      <th>FLUX</th>\n      <th>REACTION_STRING</th>\n    </tr>\n    <tr>\n      <th>RXN_STAT</th>\n      <th>ID</th>\n      <th></th>\n      <th></th>\n      <th></th>\n    </tr>\n  </thead>\n  <tbody>\n    <tr>\n      <th>PRODUCING</th>\n      <th>FUM</th>\n      <td>100.0</td>\n      <td>5.064376</td>\n      <td>fum_c + h2o_c &lt;=&gt; mal__L_c</td>\n    </tr>\n    <tr>\n      <th>CONSUMING</th>\n      <th>MDH</th>\n      <td>100.0</td>\n      <td>5.064376</td>\n      <td>mal__L_c + nad_c &lt;=&gt; h_c + nadh_c + oaa_c</td>\n    </tr>\n  </tbody>\n</table>\n</div>"
     },
     "metadata": {},
     "execution_count": 37
    }
   ],
   "source": [
    "met.summary()"
   ]
  },
  {
   "cell_type": "markdown",
   "metadata": {},
   "source": [
    "### Genes (cobra.core.gene.Gene)\n",
    "-------------\n",
    "#### attribute:\n",
    "<table>\n",
    "    <tr>\n",
    "        <th>Attribute</th>\n",
    "        <th>Type</th>\n",
    "        <th>Description</th>\n",
    "    </tr>\n",
    "    <tr>\n",
    "        <td>id</td>\n",
    "        <td>str</td>\n",
    "        <td>The identifier to associate the gene with</td>\n",
    "    </tr>\n",
    "    <tr>\n",
    "        <td>name</td>\n",
    "        <td>str</td>\n",
    "        <td>A longer human readable name for the gene</td>\n",
    "    </tr>\n",
    "    <tr>\n",
    "        <td>functional</td>\n",
    "        <td>bool</td>\n",
    "        <td>Indicates whether the gene is functional. If it is not functional then it cannot be used in an enzyme complex nor can its products be used.</td>\n",
    "    </tr>\n",
    "</table>\n",
    "\n",
    "#### method:\n",
    "<table>\n",
    "    <tr>\n",
    "        <th>Method</th>\n",
    "        <th>Parameters</th>\n",
    "        <th>Return type</th>\n",
    "        <th>Description</th>\n",
    "    </tr>\n",
    "    <tr>\n",
    "        <td>knock_out</td>\n",
    "        <td>None</td>\n",
    "        <td>None</td>\n",
    "        <td>Knockout gene by marking it as non-functional and setting all associated reactions bounds to zero.</td>\n",
    "</table>\n",
    "\n",
    "\n",
    "<style>\n",
    "th {\n",
    "    border-bottom: dotted #696969 2px;\n",
    "}\n",
    "\n",
    "td {\n",
    "    border-bottom: solid #999999 2px;\n",
    "    padding: 5px;\n",
    "}\n",
    "\n",
    "table {\n",
    "     padding: 10px; \n",
    "     border: solid #696969 3px; \n",
    "     width: 100%;\n",
    "}\n",
    "</style>"
   ]
  },
  {
   "cell_type": "code",
   "execution_count": 41,
   "metadata": {},
   "outputs": [
    {
     "output_type": "stream",
     "name": "stdout",
     "text": "404 new gene\n"
    }
   ],
   "source": [
    "# create a new gene\n",
    "new_gen = cobra.Gene(id=\"404\", name=\"new gene\")\n",
    "print(new_gen.id, new_gen.name)"
   ]
  },
  {
   "cell_type": "code",
   "execution_count": 42,
   "metadata": {},
   "outputs": [
    {
     "output_type": "stream",
     "name": "stdout",
     "text": "b1241\n"
    },
    {
     "output_type": "execute_result",
     "data": {
      "text/plain": "<Gene b0726 at 0x233bcd54dd8>",
      "text/html": "\n        <table>\n            <tr>\n                <td><strong>Gene identifier</strong></td><td>b0726</td>\n            </tr><tr>\n                <td><strong>Name</strong></td><td>sucA</td>\n            </tr><tr>\n                <td><strong>Memory address</strong></td>\n                <td>0x0233bcd54dd8</td>\n            </tr><tr>\n                <td><strong>Functional</strong></td><td>True</td>\n            </tr><tr>\n                <td><strong>In 1 reaction(s)</strong></td><td>\n                    AKGDH</td>\n            </tr>\n        </table>"
     },
     "metadata": {},
     "execution_count": 42
    }
   ],
   "source": [
    "# get a gene\n",
    "gene = model_copy.genes.get_by_id(\"b1241\")\n",
    "print(gene.id)\n",
    "\n",
    "gene = model_copy.genes[10]\n",
    "gene"
   ]
  },
  {
   "cell_type": "code",
   "execution_count": 43,
   "metadata": {},
   "outputs": [
    {
     "output_type": "execute_result",
     "data": {
      "text/plain": "frozenset({<Reaction AKGDH at 0x233bd46cf98>})"
     },
     "metadata": {},
     "execution_count": 43
    }
   ],
   "source": [
    "# related rxn\n",
    "gene.reactions"
   ]
  },
  {
   "cell_type": "code",
   "execution_count": 44,
   "metadata": {},
   "outputs": [
    {
     "output_type": "execute_result",
     "data": {
      "text/plain": "'b0726 and b0116 and b0727'"
     },
     "metadata": {},
     "execution_count": 44
    }
   ],
   "source": [
    "# check boolean relationship\n",
    "list(gene.reactions)[0].gene_reaction_rule"
   ]
  },
  {
   "cell_type": "code",
   "execution_count": 45,
   "metadata": {},
   "outputs": [
    {
     "output_type": "stream",
     "name": "stdout",
     "text": "Number of genes : 137\nNumber of genes : 138\n"
    }
   ],
   "source": [
    "# add a gene to a model\n",
    "print(f\"Number of genes : {len(model_copy.genes)}\")\n",
    "list(gene.reactions)[0].gene_reaction_rule = f\"{list(gene.reactions)[0].gene_reaction_rule} and 404\"\n",
    "\n",
    "print(f\"Number of genes : {len(model_copy.genes)}\")"
   ]
  },
  {
   "cell_type": "code",
   "execution_count": 46,
   "metadata": {},
   "outputs": [
    {
     "output_type": "stream",
     "name": "stdout",
     "text": "2421328379632 2421307378320\n"
    }
   ],
   "source": [
    "# They are not the same object!!\n",
    "model_copy.genes.get_by_id(\"404\") == new_gen\n",
    "\n",
    "print(id(model_copy.genes.get_by_id(\"404\")), id(new_gen))"
   ]
  },
  {
   "cell_type": "code",
   "execution_count": 47,
   "metadata": {},
   "outputs": [
    {
     "output_type": "stream",
     "name": "stdout",
     "text": "frozenset({<Reaction AKGDH at 0x233bd46cf98>, <Reaction ACALD at 0x233bce8e748>})\n"
    }
   ],
   "source": [
    "\n",
    "model_copy.reactions[0].gene_reaction_rule = f\"{model_copy.reactions[0].gene_reaction_rule} or 404\"\n",
    "\n",
    "print(model_copy.genes.get_by_id(\"404\").reactions)\n"
   ]
  },
  {
   "cell_type": "code",
   "execution_count": 48,
   "metadata": {},
   "outputs": [
    {
     "output_type": "stream",
     "name": "stdout",
     "text": "AKGDH: akg_c + coa_c + nad_c --> co2_c + nadh_c + succoa_c\nb0726 and b0116 and b0727 and 404\nAKGDH is functional? False\n\nACALD: acald_c + coa_c + nad_c <=> accoa_c + h_c + nadh_c\nb0351 or b1241 or 404\nACALD is functional? True\n\n"
    }
   ],
   "source": [
    "# knocking out a gene\n",
    "model_copy.genes.get_by_id(\"404\").knock_out()\n",
    "\n",
    "# The related reactions might be influenced after you knock out a gene\n",
    "for i in model_copy.genes.get_by_id(\"404\").reactions:\n",
    "    print(i)\n",
    "    print(i.gene_reaction_rule)\n",
    "    print(f\"{i.id} is functional? {i.functional}\")\n",
    "    print()"
   ]
  },
  {
   "cell_type": "markdown",
   "metadata": {},
   "source": [
    "### Configuration\n",
    "\n",
    "#### reference: https://cobrapy.readthedocs.io/en/stable/configuration.html"
   ]
  },
  {
   "cell_type": "code",
   "execution_count": 49,
   "metadata": {},
   "outputs": [
    {
     "output_type": "execute_result",
     "data": {
      "text/plain": "(-1000.0, 1000.0)"
     },
     "metadata": {},
     "execution_count": 49
    }
   ],
   "source": [
    "# The object has the following attributes which you can inspect but also change as desired.\n",
    "\n",
    "cobra_config = cobra.Configuration()\n",
    "cobra_config.bounds"
   ]
  },
  {
   "cell_type": "code",
   "execution_count": 50,
   "metadata": {},
   "outputs": [
    {
     "output_type": "execute_result",
     "data": {
      "text/plain": "<Reaction R1 at 0x233c6122ac8>",
      "text/html": "\n        <table>\n            <tr>\n                <td><strong>Reaction identifier</strong></td><td>R1</td>\n            </tr><tr>\n                <td><strong>Name</strong></td><td></td>\n            </tr><tr>\n                <td><strong>Memory address</strong></td>\n                <td>0x0233c6122ac8</td>\n            </tr><tr>\n                <td><strong>Stoichiometry</strong></td>\n                <td>\n                    <p style='text-align:right'> <=> </p>\n                    <p style='text-align:right'> <=> </p>\n                </td>\n            </tr><tr>\n                <td><strong>GPR</strong></td><td></td>\n            </tr><tr>\n                <td><strong>Lower bound</strong></td><td>-10</td>\n            </tr><tr>\n                <td><strong>Upper bound</strong></td><td>30</td>\n            </tr>\n        </table>\n        "
     },
     "metadata": {},
     "execution_count": 50
    }
   ],
   "source": [
    "# change default bounds\n",
    "cobra_config.bounds = -10, 30\n",
    "cobra.Reaction(\"R1\", lower_bound=None)"
   ]
  },
  {
   "cell_type": "code",
   "execution_count": 52,
   "metadata": {},
   "outputs": [
    {
     "output_type": "execute_result",
     "data": {
      "text/plain": "<optlang.scipy_interface.Model at 0x233c61222b0>"
     },
     "metadata": {},
     "execution_count": 52
    }
   ],
   "source": [
    "# change default solver\n",
    "cobra_config.solver = \"scipy\"\n",
    "new_model = create_test_model(\"textbook\")\n",
    "new_model.solver"
   ]
  },
  {
   "cell_type": "markdown",
   "metadata": {},
   "source": [
    "### Using context manager"
   ]
  },
  {
   "cell_type": "code",
   "execution_count": 53,
   "metadata": {},
   "outputs": [
    {
     "output_type": "stream",
     "name": "stdout",
     "text": "(-2000, 2000)\n(0, 0)\nr2: m2 --> \nThe model has 96 reactions\nThe model has 73 metabolites\n"
    }
   ],
   "source": [
    "with model:\n",
    "    model.reactions[10].bounds = (-2000, 2000)\n",
    "    model.reactions[9].knock_out()\n",
    "\n",
    "    print(model.reactions[10].bounds)\n",
    "    print(model.reactions[9].bounds)\n",
    "    \n",
    "    new_rxn2 = cobra.Reaction(\"r2\")\n",
    "    new_met2 = cobra.Metabolite(\"m2\")\n",
    "    model.add_metabolites([new_met2])\n",
    "    model.add_reactions([new_rxn2])\n",
    "    new_rxn2.build_reaction_from_string(\"m2 -->\")\n",
    "    \n",
    "    print(model.reactions.r2)\n",
    "    \n",
    "    print(f\"The model has {len(model.reactions)} reactions\")\n",
    "    print(f\"The model has {len(model.metabolites)} metabolites\")"
   ]
  },
  {
   "cell_type": "code",
   "execution_count": 54,
   "metadata": {},
   "outputs": [
    {
     "output_type": "stream",
     "name": "stdout",
     "text": "(8.39, 1000.0)\n(-1000.0, 1000.0)\nCannot find new_rxn2 in the model\nThe model has 95 reactions\nThe model has 72 metabolites\n"
    }
   ],
   "source": [
    "# all the changes are reverted\n",
    "print(model.reactions[10].bounds)\n",
    "print(model.reactions[9].bounds)\n",
    "\n",
    "try:\n",
    "    print(model.reactions.new_rxn2)\n",
    "except:\n",
    "    print(\"Cannot find new_rxn2 in the model\")\n",
    "\n",
    "print(f\"The model has {len(model.reactions)} reactions\")\n",
    "print(f\"The model has {len(model.metabolites)} metabolites\")"
   ]
  },
  {
   "cell_type": "markdown",
   "metadata": {},
   "source": [
    "## Flux balance analysis(FBA)"
   ]
  },
  {
   "cell_type": "code",
   "execution_count": 56,
   "metadata": {},
   "outputs": [
    {
     "output_type": "stream",
     "name": "stdout",
     "text": "Maximize\n1.0*Biomass_Ecoli_core - 1.0*Biomass_Ecoli_core_reverse_2cdba\n"
    }
   ],
   "source": [
    "# The LP problem of the model\n",
    "print(model.objective)"
   ]
  },
  {
   "cell_type": "code",
   "execution_count": 57,
   "metadata": {},
   "outputs": [
    {
     "output_type": "execute_result",
     "data": {
      "text/plain": "{<Reaction Biomass_Ecoli_core at 0x233ba746c88>: 1.0}"
     },
     "metadata": {},
     "execution_count": 57
    }
   ],
   "source": [
    "# get a dict of {Reaction: objective_coefficient}\n",
    "from cobra.util.solver import linear_reaction_coefficients\n",
    "linear_reaction_coefficients(model)"
   ]
  },
  {
   "cell_type": "code",
   "execution_count": 58,
   "metadata": {},
   "outputs": [
    {
     "output_type": "stream",
     "name": "stdout",
     "text": "obj value: 10.0\n\nTPI Flux: 10.0\nACALD Flux: 0.0\nobj value: 20.0\n\nobj value: 20.0\n\n"
    }
   ],
   "source": [
    "# modify the model objective\n",
    "with model:\n",
    "    model.objective = model.reactions.TPI\n",
    "    print(f\"obj value: {model.slim_optimize()}\\n\")\n",
    "\n",
    "    model.objective = {model.reactions.TPI: 2, \n",
    "                        model.reactions.ACALD: 1}\n",
    "    \n",
    "    # after running FBA, the flux of reaction can be obtained by:\n",
    "    model.optimize()\n",
    "    print(f\"TPI Flux: {model.reactions.get_by_id('TPI').flux}\\nACALD Flux: {model.reactions.get_by_id('ACALD').flux}\\nobj value: {model.slim_optimize()}\\n\")\n",
    "\n",
    "    model.objective = \"ACONTa\"\n",
    "\n",
    "    print(f\"obj value: {model.slim_optimize()}\\n\")"
   ]
  },
  {
   "cell_type": "code",
   "execution_count": 60,
   "metadata": {},
   "outputs": [
    {
     "output_type": "execute_result",
     "data": {
      "text/plain": "<Solution 0.874 at 0x233c3b928d0>",
      "text/html": "<strong><em>Optimal</em> solution with objective value 0.874</strong><br><div>\n<style scoped>\n    .dataframe tbody tr th:only-of-type {\n        vertical-align: middle;\n    }\n\n    .dataframe tbody tr th {\n        vertical-align: top;\n    }\n\n    .dataframe thead th {\n        text-align: right;\n    }\n</style>\n<table border=\"1\" class=\"dataframe\">\n  <thead>\n    <tr style=\"text-align: right;\">\n      <th></th>\n      <th>fluxes</th>\n      <th>reduced_costs</th>\n    </tr>\n  </thead>\n  <tbody>\n    <tr>\n      <th>ACALD</th>\n      <td>0.000000</td>\n      <td>0.000000e+00</td>\n    </tr>\n    <tr>\n      <th>ACALDt</th>\n      <td>0.000000</td>\n      <td>0.000000e+00</td>\n    </tr>\n    <tr>\n      <th>ACKr</th>\n      <td>0.000000</td>\n      <td>-0.000000e+00</td>\n    </tr>\n    <tr>\n      <th>ACONTa</th>\n      <td>6.007250</td>\n      <td>0.000000e+00</td>\n    </tr>\n    <tr>\n      <th>ACONTb</th>\n      <td>6.007250</td>\n      <td>0.000000e+00</td>\n    </tr>\n    <tr>\n      <th>...</th>\n      <td>...</td>\n      <td>...</td>\n    </tr>\n    <tr>\n      <th>TALA</th>\n      <td>1.496984</td>\n      <td>0.000000e+00</td>\n    </tr>\n    <tr>\n      <th>THD2</th>\n      <td>0.000000</td>\n      <td>-2.546243e-03</td>\n    </tr>\n    <tr>\n      <th>TKT1</th>\n      <td>1.496984</td>\n      <td>0.000000e+00</td>\n    </tr>\n    <tr>\n      <th>TKT2</th>\n      <td>1.181498</td>\n      <td>2.775558e-17</td>\n    </tr>\n    <tr>\n      <th>TPI</th>\n      <td>7.477382</td>\n      <td>0.000000e+00</td>\n    </tr>\n  </tbody>\n</table>\n<p>95 rows × 2 columns</p>\n</div>"
     },
     "metadata": {},
     "execution_count": 60
    }
   ],
   "source": [
    "# Running FBA\n",
    "sol = model.optimize()\n",
    "sol"
   ]
  },
  {
   "cell_type": "code",
   "execution_count": 32,
   "metadata": {},
   "outputs": [
    {
     "output_type": "execute_result",
     "data": {
      "text/plain": "(0.8739215069684303, 'optimal')"
     },
     "metadata": {},
     "execution_count": 32
    }
   ],
   "source": [
    "# attributes (analysis results) of a cobra.Solution object\n",
    "sol.objective_value, sol.status"
   ]
  },
  {
   "cell_type": "code",
   "execution_count": 63,
   "metadata": {},
   "outputs": [
    {
     "output_type": "execute_result",
     "data": {
      "text/plain": "ACALD     0.000000\nACALDt    0.000000\nACKr      0.000000\nACONTa    6.007250\nACONTb    6.007250\n            ...   \nTALA      1.496984\nTHD2      0.000000\nTKT1      1.496984\nTKT2      1.181498\nTPI       7.477382\nName: fluxes, Length: 95, dtype: float64"
     },
     "metadata": {},
     "execution_count": 63
    }
   ],
   "source": [
    "# attributes (analysis results) of a cobra.Solution object\n",
    "sol.to_frame().fluxes"
   ]
  },
  {
   "cell_type": "code",
   "execution_count": 64,
   "metadata": {},
   "outputs": [
    {
     "output_type": "display_data",
     "data": {
      "text/plain": "<Figure size 864x504 with 1 Axes>",
      "image/svg+xml": "<?xml version=\"1.0\" encoding=\"utf-8\" standalone=\"no\"?>\r\n<!DOCTYPE svg PUBLIC \"-//W3C//DTD SVG 1.1//EN\"\r\n  \"http://www.w3.org/Graphics/SVG/1.1/DTD/svg11.dtd\">\r\n<!-- Created with matplotlib (https://matplotlib.org/) -->\r\n<svg height=\"425.27625pt\" version=\"1.1\" viewBox=\"0 0 720.58125 425.27625\" width=\"720.58125pt\" xmlns=\"http://www.w3.org/2000/svg\" xmlns:xlink=\"http://www.w3.org/1999/xlink\">\r\n <defs>\r\n  <style type=\"text/css\">\r\n*{stroke-linecap:butt;stroke-linejoin:round;}\r\n  </style>\r\n </defs>\r\n <g id=\"figure_1\">\r\n  <g id=\"patch_1\">\r\n   <path d=\"M 0 425.27625 \r\nL 720.58125 425.27625 \r\nL 720.58125 0 \r\nL 0 0 \r\nz\r\n\" style=\"fill:none;\"/>\r\n  </g>\r\n  <g id=\"axes_1\">\r\n   <g id=\"patch_2\">\r\n    <path d=\"M 43.78125 387.72 \r\nL 713.38125 387.72 \r\nL 713.38125 7.2 \r\nL 43.78125 7.2 \r\nz\r\n\" style=\"fill:#ffffff;\"/>\r\n   </g>\r\n   <g id=\"matplotlib.axis_1\">\r\n    <g id=\"xtick_1\">\r\n     <g id=\"line2d_1\">\r\n      <defs>\r\n       <path d=\"M 0 0 \r\nL 0 3.5 \r\n\" id=\"mc573436ea9\" style=\"stroke:#000000;stroke-width:0.8;\"/>\r\n      </defs>\r\n      <g>\r\n       <use style=\"stroke:#000000;stroke-width:0.8;\" x=\"74.217614\" xlink:href=\"#mc573436ea9\" y=\"387.72\"/>\r\n      </g>\r\n     </g>\r\n     <g id=\"text_1\">\r\n      <!-- 0 -->\r\n      <defs>\r\n       <path d=\"M 31.78125 66.40625 \r\nQ 24.171875 66.40625 20.328125 58.90625 \r\nQ 16.5 51.421875 16.5 36.375 \r\nQ 16.5 21.390625 20.328125 13.890625 \r\nQ 24.171875 6.390625 31.78125 6.390625 \r\nQ 39.453125 6.390625 43.28125 13.890625 \r\nQ 47.125 21.390625 47.125 36.375 \r\nQ 47.125 51.421875 43.28125 58.90625 \r\nQ 39.453125 66.40625 31.78125 66.40625 \r\nz\r\nM 31.78125 74.21875 \r\nQ 44.046875 74.21875 50.515625 64.515625 \r\nQ 56.984375 54.828125 56.984375 36.375 \r\nQ 56.984375 17.96875 50.515625 8.265625 \r\nQ 44.046875 -1.421875 31.78125 -1.421875 \r\nQ 19.53125 -1.421875 13.0625 8.265625 \r\nQ 6.59375 17.96875 6.59375 36.375 \r\nQ 6.59375 54.828125 13.0625 64.515625 \r\nQ 19.53125 74.21875 31.78125 74.21875 \r\nz\r\n\" id=\"DejaVuSans-48\"/>\r\n      </defs>\r\n      <g transform=\"translate(71.036364 402.318437)scale(0.1 -0.1)\">\r\n       <use xlink:href=\"#DejaVuSans-48\"/>\r\n      </g>\r\n     </g>\r\n    </g>\r\n    <g id=\"xtick_2\">\r\n     <g id=\"line2d_2\">\r\n      <g>\r\n       <use style=\"stroke:#000000;stroke-width:0.8;\" x=\"165.618105\" xlink:href=\"#mc573436ea9\" y=\"387.72\"/>\r\n      </g>\r\n     </g>\r\n     <g id=\"text_2\">\r\n      <!-- 50 -->\r\n      <defs>\r\n       <path d=\"M 10.796875 72.90625 \r\nL 49.515625 72.90625 \r\nL 49.515625 64.59375 \r\nL 19.828125 64.59375 \r\nL 19.828125 46.734375 \r\nQ 21.96875 47.46875 24.109375 47.828125 \r\nQ 26.265625 48.1875 28.421875 48.1875 \r\nQ 40.625 48.1875 47.75 41.5 \r\nQ 54.890625 34.8125 54.890625 23.390625 \r\nQ 54.890625 11.625 47.5625 5.09375 \r\nQ 40.234375 -1.421875 26.90625 -1.421875 \r\nQ 22.3125 -1.421875 17.546875 -0.640625 \r\nQ 12.796875 0.140625 7.71875 1.703125 \r\nL 7.71875 11.625 \r\nQ 12.109375 9.234375 16.796875 8.0625 \r\nQ 21.484375 6.890625 26.703125 6.890625 \r\nQ 35.15625 6.890625 40.078125 11.328125 \r\nQ 45.015625 15.765625 45.015625 23.390625 \r\nQ 45.015625 31 40.078125 35.4375 \r\nQ 35.15625 39.890625 26.703125 39.890625 \r\nQ 22.75 39.890625 18.8125 39.015625 \r\nQ 14.890625 38.140625 10.796875 36.28125 \r\nz\r\n\" id=\"DejaVuSans-53\"/>\r\n      </defs>\r\n      <g transform=\"translate(159.255605 402.318437)scale(0.1 -0.1)\">\r\n       <use xlink:href=\"#DejaVuSans-53\"/>\r\n       <use x=\"63.623047\" xlink:href=\"#DejaVuSans-48\"/>\r\n      </g>\r\n     </g>\r\n    </g>\r\n    <g id=\"xtick_3\">\r\n     <g id=\"line2d_3\">\r\n      <g>\r\n       <use style=\"stroke:#000000;stroke-width:0.8;\" x=\"257.018596\" xlink:href=\"#mc573436ea9\" y=\"387.72\"/>\r\n      </g>\r\n     </g>\r\n     <g id=\"text_3\">\r\n      <!-- 100 -->\r\n      <defs>\r\n       <path d=\"M 12.40625 8.296875 \r\nL 28.515625 8.296875 \r\nL 28.515625 63.921875 \r\nL 10.984375 60.40625 \r\nL 10.984375 69.390625 \r\nL 28.421875 72.90625 \r\nL 38.28125 72.90625 \r\nL 38.28125 8.296875 \r\nL 54.390625 8.296875 \r\nL 54.390625 0 \r\nL 12.40625 0 \r\nz\r\n\" id=\"DejaVuSans-49\"/>\r\n      </defs>\r\n      <g transform=\"translate(247.474846 402.318437)scale(0.1 -0.1)\">\r\n       <use xlink:href=\"#DejaVuSans-49\"/>\r\n       <use x=\"63.623047\" xlink:href=\"#DejaVuSans-48\"/>\r\n       <use x=\"127.246094\" xlink:href=\"#DejaVuSans-48\"/>\r\n      </g>\r\n     </g>\r\n    </g>\r\n    <g id=\"xtick_4\">\r\n     <g id=\"line2d_4\">\r\n      <g>\r\n       <use style=\"stroke:#000000;stroke-width:0.8;\" x=\"348.419088\" xlink:href=\"#mc573436ea9\" y=\"387.72\"/>\r\n      </g>\r\n     </g>\r\n     <g id=\"text_4\">\r\n      <!-- 150 -->\r\n      <g transform=\"translate(338.875338 402.318437)scale(0.1 -0.1)\">\r\n       <use xlink:href=\"#DejaVuSans-49\"/>\r\n       <use x=\"63.623047\" xlink:href=\"#DejaVuSans-53\"/>\r\n       <use x=\"127.246094\" xlink:href=\"#DejaVuSans-48\"/>\r\n      </g>\r\n     </g>\r\n    </g>\r\n    <g id=\"xtick_5\">\r\n     <g id=\"line2d_5\">\r\n      <g>\r\n       <use style=\"stroke:#000000;stroke-width:0.8;\" x=\"439.819579\" xlink:href=\"#mc573436ea9\" y=\"387.72\"/>\r\n      </g>\r\n     </g>\r\n     <g id=\"text_5\">\r\n      <!-- 200 -->\r\n      <defs>\r\n       <path d=\"M 19.1875 8.296875 \r\nL 53.609375 8.296875 \r\nL 53.609375 0 \r\nL 7.328125 0 \r\nL 7.328125 8.296875 \r\nQ 12.9375 14.109375 22.625 23.890625 \r\nQ 32.328125 33.6875 34.8125 36.53125 \r\nQ 39.546875 41.84375 41.421875 45.53125 \r\nQ 43.3125 49.21875 43.3125 52.78125 \r\nQ 43.3125 58.59375 39.234375 62.25 \r\nQ 35.15625 65.921875 28.609375 65.921875 \r\nQ 23.96875 65.921875 18.8125 64.3125 \r\nQ 13.671875 62.703125 7.8125 59.421875 \r\nL 7.8125 69.390625 \r\nQ 13.765625 71.78125 18.9375 73 \r\nQ 24.125 74.21875 28.421875 74.21875 \r\nQ 39.75 74.21875 46.484375 68.546875 \r\nQ 53.21875 62.890625 53.21875 53.421875 \r\nQ 53.21875 48.921875 51.53125 44.890625 \r\nQ 49.859375 40.875 45.40625 35.40625 \r\nQ 44.1875 33.984375 37.640625 27.21875 \r\nQ 31.109375 20.453125 19.1875 8.296875 \r\nz\r\n\" id=\"DejaVuSans-50\"/>\r\n      </defs>\r\n      <g transform=\"translate(430.275829 402.318437)scale(0.1 -0.1)\">\r\n       <use xlink:href=\"#DejaVuSans-50\"/>\r\n       <use x=\"63.623047\" xlink:href=\"#DejaVuSans-48\"/>\r\n       <use x=\"127.246094\" xlink:href=\"#DejaVuSans-48\"/>\r\n      </g>\r\n     </g>\r\n    </g>\r\n    <g id=\"xtick_6\">\r\n     <g id=\"line2d_6\">\r\n      <g>\r\n       <use style=\"stroke:#000000;stroke-width:0.8;\" x=\"531.220071\" xlink:href=\"#mc573436ea9\" y=\"387.72\"/>\r\n      </g>\r\n     </g>\r\n     <g id=\"text_6\">\r\n      <!-- 250 -->\r\n      <g transform=\"translate(521.676321 402.318437)scale(0.1 -0.1)\">\r\n       <use xlink:href=\"#DejaVuSans-50\"/>\r\n       <use x=\"63.623047\" xlink:href=\"#DejaVuSans-53\"/>\r\n       <use x=\"127.246094\" xlink:href=\"#DejaVuSans-48\"/>\r\n      </g>\r\n     </g>\r\n    </g>\r\n    <g id=\"xtick_7\">\r\n     <g id=\"line2d_7\">\r\n      <g>\r\n       <use style=\"stroke:#000000;stroke-width:0.8;\" x=\"622.620562\" xlink:href=\"#mc573436ea9\" y=\"387.72\"/>\r\n      </g>\r\n     </g>\r\n     <g id=\"text_7\">\r\n      <!-- 300 -->\r\n      <defs>\r\n       <path d=\"M 40.578125 39.3125 \r\nQ 47.65625 37.796875 51.625 33 \r\nQ 55.609375 28.21875 55.609375 21.1875 \r\nQ 55.609375 10.40625 48.1875 4.484375 \r\nQ 40.765625 -1.421875 27.09375 -1.421875 \r\nQ 22.515625 -1.421875 17.65625 -0.515625 \r\nQ 12.796875 0.390625 7.625 2.203125 \r\nL 7.625 11.71875 \r\nQ 11.71875 9.328125 16.59375 8.109375 \r\nQ 21.484375 6.890625 26.8125 6.890625 \r\nQ 36.078125 6.890625 40.9375 10.546875 \r\nQ 45.796875 14.203125 45.796875 21.1875 \r\nQ 45.796875 27.640625 41.28125 31.265625 \r\nQ 36.765625 34.90625 28.71875 34.90625 \r\nL 20.21875 34.90625 \r\nL 20.21875 43.015625 \r\nL 29.109375 43.015625 \r\nQ 36.375 43.015625 40.234375 45.921875 \r\nQ 44.09375 48.828125 44.09375 54.296875 \r\nQ 44.09375 59.90625 40.109375 62.90625 \r\nQ 36.140625 65.921875 28.71875 65.921875 \r\nQ 24.65625 65.921875 20.015625 65.03125 \r\nQ 15.375 64.15625 9.8125 62.3125 \r\nL 9.8125 71.09375 \r\nQ 15.4375 72.65625 20.34375 73.4375 \r\nQ 25.25 74.21875 29.59375 74.21875 \r\nQ 40.828125 74.21875 47.359375 69.109375 \r\nQ 53.90625 64.015625 53.90625 55.328125 \r\nQ 53.90625 49.265625 50.4375 45.09375 \r\nQ 46.96875 40.921875 40.578125 39.3125 \r\nz\r\n\" id=\"DejaVuSans-51\"/>\r\n      </defs>\r\n      <g transform=\"translate(613.076812 402.318437)scale(0.1 -0.1)\">\r\n       <use xlink:href=\"#DejaVuSans-51\"/>\r\n       <use x=\"63.623047\" xlink:href=\"#DejaVuSans-48\"/>\r\n       <use x=\"127.246094\" xlink:href=\"#DejaVuSans-48\"/>\r\n      </g>\r\n     </g>\r\n    </g>\r\n    <g id=\"text_8\">\r\n     <!-- Lower bound of THD2 -->\r\n     <defs>\r\n      <path d=\"M 9.8125 72.90625 \r\nL 19.671875 72.90625 \r\nL 19.671875 8.296875 \r\nL 55.171875 8.296875 \r\nL 55.171875 0 \r\nL 9.8125 0 \r\nz\r\n\" id=\"DejaVuSans-76\"/>\r\n      <path d=\"M 30.609375 48.390625 \r\nQ 23.390625 48.390625 19.1875 42.75 \r\nQ 14.984375 37.109375 14.984375 27.296875 \r\nQ 14.984375 17.484375 19.15625 11.84375 \r\nQ 23.34375 6.203125 30.609375 6.203125 \r\nQ 37.796875 6.203125 41.984375 11.859375 \r\nQ 46.1875 17.53125 46.1875 27.296875 \r\nQ 46.1875 37.015625 41.984375 42.703125 \r\nQ 37.796875 48.390625 30.609375 48.390625 \r\nz\r\nM 30.609375 56 \r\nQ 42.328125 56 49.015625 48.375 \r\nQ 55.71875 40.765625 55.71875 27.296875 \r\nQ 55.71875 13.875 49.015625 6.21875 \r\nQ 42.328125 -1.421875 30.609375 -1.421875 \r\nQ 18.84375 -1.421875 12.171875 6.21875 \r\nQ 5.515625 13.875 5.515625 27.296875 \r\nQ 5.515625 40.765625 12.171875 48.375 \r\nQ 18.84375 56 30.609375 56 \r\nz\r\n\" id=\"DejaVuSans-111\"/>\r\n      <path d=\"M 4.203125 54.6875 \r\nL 13.1875 54.6875 \r\nL 24.421875 12.015625 \r\nL 35.59375 54.6875 \r\nL 46.1875 54.6875 \r\nL 57.421875 12.015625 \r\nL 68.609375 54.6875 \r\nL 77.59375 54.6875 \r\nL 63.28125 0 \r\nL 52.6875 0 \r\nL 40.921875 44.828125 \r\nL 29.109375 0 \r\nL 18.5 0 \r\nz\r\n\" id=\"DejaVuSans-119\"/>\r\n      <path d=\"M 56.203125 29.59375 \r\nL 56.203125 25.203125 \r\nL 14.890625 25.203125 \r\nQ 15.484375 15.921875 20.484375 11.0625 \r\nQ 25.484375 6.203125 34.421875 6.203125 \r\nQ 39.59375 6.203125 44.453125 7.46875 \r\nQ 49.3125 8.734375 54.109375 11.28125 \r\nL 54.109375 2.78125 \r\nQ 49.265625 0.734375 44.1875 -0.34375 \r\nQ 39.109375 -1.421875 33.890625 -1.421875 \r\nQ 20.796875 -1.421875 13.15625 6.1875 \r\nQ 5.515625 13.8125 5.515625 26.8125 \r\nQ 5.515625 40.234375 12.765625 48.109375 \r\nQ 20.015625 56 32.328125 56 \r\nQ 43.359375 56 49.78125 48.890625 \r\nQ 56.203125 41.796875 56.203125 29.59375 \r\nz\r\nM 47.21875 32.234375 \r\nQ 47.125 39.59375 43.09375 43.984375 \r\nQ 39.0625 48.390625 32.421875 48.390625 \r\nQ 24.90625 48.390625 20.390625 44.140625 \r\nQ 15.875 39.890625 15.1875 32.171875 \r\nz\r\n\" id=\"DejaVuSans-101\"/>\r\n      <path d=\"M 41.109375 46.296875 \r\nQ 39.59375 47.171875 37.8125 47.578125 \r\nQ 36.03125 48 33.890625 48 \r\nQ 26.265625 48 22.1875 43.046875 \r\nQ 18.109375 38.09375 18.109375 28.8125 \r\nL 18.109375 0 \r\nL 9.078125 0 \r\nL 9.078125 54.6875 \r\nL 18.109375 54.6875 \r\nL 18.109375 46.1875 \r\nQ 20.953125 51.171875 25.484375 53.578125 \r\nQ 30.03125 56 36.53125 56 \r\nQ 37.453125 56 38.578125 55.875 \r\nQ 39.703125 55.765625 41.0625 55.515625 \r\nz\r\n\" id=\"DejaVuSans-114\"/>\r\n      <path id=\"DejaVuSans-32\"/>\r\n      <path d=\"M 48.6875 27.296875 \r\nQ 48.6875 37.203125 44.609375 42.84375 \r\nQ 40.53125 48.484375 33.40625 48.484375 \r\nQ 26.265625 48.484375 22.1875 42.84375 \r\nQ 18.109375 37.203125 18.109375 27.296875 \r\nQ 18.109375 17.390625 22.1875 11.75 \r\nQ 26.265625 6.109375 33.40625 6.109375 \r\nQ 40.53125 6.109375 44.609375 11.75 \r\nQ 48.6875 17.390625 48.6875 27.296875 \r\nz\r\nM 18.109375 46.390625 \r\nQ 20.953125 51.265625 25.265625 53.625 \r\nQ 29.59375 56 35.59375 56 \r\nQ 45.5625 56 51.78125 48.09375 \r\nQ 58.015625 40.1875 58.015625 27.296875 \r\nQ 58.015625 14.40625 51.78125 6.484375 \r\nQ 45.5625 -1.421875 35.59375 -1.421875 \r\nQ 29.59375 -1.421875 25.265625 0.953125 \r\nQ 20.953125 3.328125 18.109375 8.203125 \r\nL 18.109375 0 \r\nL 9.078125 0 \r\nL 9.078125 75.984375 \r\nL 18.109375 75.984375 \r\nz\r\n\" id=\"DejaVuSans-98\"/>\r\n      <path d=\"M 8.5 21.578125 \r\nL 8.5 54.6875 \r\nL 17.484375 54.6875 \r\nL 17.484375 21.921875 \r\nQ 17.484375 14.15625 20.5 10.265625 \r\nQ 23.53125 6.390625 29.59375 6.390625 \r\nQ 36.859375 6.390625 41.078125 11.03125 \r\nQ 45.3125 15.671875 45.3125 23.6875 \r\nL 45.3125 54.6875 \r\nL 54.296875 54.6875 \r\nL 54.296875 0 \r\nL 45.3125 0 \r\nL 45.3125 8.40625 \r\nQ 42.046875 3.421875 37.71875 1 \r\nQ 33.40625 -1.421875 27.6875 -1.421875 \r\nQ 18.265625 -1.421875 13.375 4.4375 \r\nQ 8.5 10.296875 8.5 21.578125 \r\nz\r\nM 31.109375 56 \r\nz\r\n\" id=\"DejaVuSans-117\"/>\r\n      <path d=\"M 54.890625 33.015625 \r\nL 54.890625 0 \r\nL 45.90625 0 \r\nL 45.90625 32.71875 \r\nQ 45.90625 40.484375 42.875 44.328125 \r\nQ 39.84375 48.1875 33.796875 48.1875 \r\nQ 26.515625 48.1875 22.3125 43.546875 \r\nQ 18.109375 38.921875 18.109375 30.90625 \r\nL 18.109375 0 \r\nL 9.078125 0 \r\nL 9.078125 54.6875 \r\nL 18.109375 54.6875 \r\nL 18.109375 46.1875 \r\nQ 21.34375 51.125 25.703125 53.5625 \r\nQ 30.078125 56 35.796875 56 \r\nQ 45.21875 56 50.046875 50.171875 \r\nQ 54.890625 44.34375 54.890625 33.015625 \r\nz\r\n\" id=\"DejaVuSans-110\"/>\r\n      <path d=\"M 45.40625 46.390625 \r\nL 45.40625 75.984375 \r\nL 54.390625 75.984375 \r\nL 54.390625 0 \r\nL 45.40625 0 \r\nL 45.40625 8.203125 \r\nQ 42.578125 3.328125 38.25 0.953125 \r\nQ 33.9375 -1.421875 27.875 -1.421875 \r\nQ 17.96875 -1.421875 11.734375 6.484375 \r\nQ 5.515625 14.40625 5.515625 27.296875 \r\nQ 5.515625 40.1875 11.734375 48.09375 \r\nQ 17.96875 56 27.875 56 \r\nQ 33.9375 56 38.25 53.625 \r\nQ 42.578125 51.265625 45.40625 46.390625 \r\nz\r\nM 14.796875 27.296875 \r\nQ 14.796875 17.390625 18.875 11.75 \r\nQ 22.953125 6.109375 30.078125 6.109375 \r\nQ 37.203125 6.109375 41.296875 11.75 \r\nQ 45.40625 17.390625 45.40625 27.296875 \r\nQ 45.40625 37.203125 41.296875 42.84375 \r\nQ 37.203125 48.484375 30.078125 48.484375 \r\nQ 22.953125 48.484375 18.875 42.84375 \r\nQ 14.796875 37.203125 14.796875 27.296875 \r\nz\r\n\" id=\"DejaVuSans-100\"/>\r\n      <path d=\"M 37.109375 75.984375 \r\nL 37.109375 68.5 \r\nL 28.515625 68.5 \r\nQ 23.6875 68.5 21.796875 66.546875 \r\nQ 19.921875 64.59375 19.921875 59.515625 \r\nL 19.921875 54.6875 \r\nL 34.71875 54.6875 \r\nL 34.71875 47.703125 \r\nL 19.921875 47.703125 \r\nL 19.921875 0 \r\nL 10.890625 0 \r\nL 10.890625 47.703125 \r\nL 2.296875 47.703125 \r\nL 2.296875 54.6875 \r\nL 10.890625 54.6875 \r\nL 10.890625 58.5 \r\nQ 10.890625 67.625 15.140625 71.796875 \r\nQ 19.390625 75.984375 28.609375 75.984375 \r\nz\r\n\" id=\"DejaVuSans-102\"/>\r\n      <path d=\"M -0.296875 72.90625 \r\nL 61.375 72.90625 \r\nL 61.375 64.59375 \r\nL 35.5 64.59375 \r\nL 35.5 0 \r\nL 25.59375 0 \r\nL 25.59375 64.59375 \r\nL -0.296875 64.59375 \r\nz\r\n\" id=\"DejaVuSans-84\"/>\r\n      <path d=\"M 9.8125 72.90625 \r\nL 19.671875 72.90625 \r\nL 19.671875 43.015625 \r\nL 55.515625 43.015625 \r\nL 55.515625 72.90625 \r\nL 65.375 72.90625 \r\nL 65.375 0 \r\nL 55.515625 0 \r\nL 55.515625 34.71875 \r\nL 19.671875 34.71875 \r\nL 19.671875 0 \r\nL 9.8125 0 \r\nz\r\n\" id=\"DejaVuSans-72\"/>\r\n      <path d=\"M 19.671875 64.796875 \r\nL 19.671875 8.109375 \r\nL 31.59375 8.109375 \r\nQ 46.6875 8.109375 53.6875 14.9375 \r\nQ 60.6875 21.78125 60.6875 36.53125 \r\nQ 60.6875 51.171875 53.6875 57.984375 \r\nQ 46.6875 64.796875 31.59375 64.796875 \r\nz\r\nM 9.8125 72.90625 \r\nL 30.078125 72.90625 \r\nQ 51.265625 72.90625 61.171875 64.09375 \r\nQ 71.09375 55.28125 71.09375 36.53125 \r\nQ 71.09375 17.671875 61.125 8.828125 \r\nQ 51.171875 0 30.078125 0 \r\nL 9.8125 0 \r\nz\r\n\" id=\"DejaVuSans-68\"/>\r\n     </defs>\r\n     <g transform=\"translate(324.338281 415.996562)scale(0.1 -0.1)\">\r\n      <use xlink:href=\"#DejaVuSans-76\"/>\r\n      <use x=\"55.697266\" xlink:href=\"#DejaVuSans-111\"/>\r\n      <use x=\"116.878906\" xlink:href=\"#DejaVuSans-119\"/>\r\n      <use x=\"198.666016\" xlink:href=\"#DejaVuSans-101\"/>\r\n      <use x=\"260.189453\" xlink:href=\"#DejaVuSans-114\"/>\r\n      <use x=\"301.302734\" xlink:href=\"#DejaVuSans-32\"/>\r\n      <use x=\"333.089844\" xlink:href=\"#DejaVuSans-98\"/>\r\n      <use x=\"396.566406\" xlink:href=\"#DejaVuSans-111\"/>\r\n      <use x=\"457.748047\" xlink:href=\"#DejaVuSans-117\"/>\r\n      <use x=\"521.126953\" xlink:href=\"#DejaVuSans-110\"/>\r\n      <use x=\"584.505859\" xlink:href=\"#DejaVuSans-100\"/>\r\n      <use x=\"647.982422\" xlink:href=\"#DejaVuSans-32\"/>\r\n      <use x=\"679.769531\" xlink:href=\"#DejaVuSans-111\"/>\r\n      <use x=\"740.951172\" xlink:href=\"#DejaVuSans-102\"/>\r\n      <use x=\"776.15625\" xlink:href=\"#DejaVuSans-32\"/>\r\n      <use x=\"807.943359\" xlink:href=\"#DejaVuSans-84\"/>\r\n      <use x=\"869.027344\" xlink:href=\"#DejaVuSans-72\"/>\r\n      <use x=\"944.222656\" xlink:href=\"#DejaVuSans-68\"/>\r\n      <use x=\"1021.224609\" xlink:href=\"#DejaVuSans-50\"/>\r\n     </g>\r\n    </g>\r\n   </g>\r\n   <g id=\"matplotlib.axis_2\">\r\n    <g id=\"ytick_1\">\r\n     <g id=\"line2d_8\">\r\n      <defs>\r\n       <path d=\"M 0 0 \r\nL -3.5 0 \r\n\" id=\"m30c0704a3e\" style=\"stroke:#000000;stroke-width:0.8;\"/>\r\n      </defs>\r\n      <g>\r\n       <use style=\"stroke:#000000;stroke-width:0.8;\" x=\"43.78125\" xlink:href=\"#m30c0704a3e\" y=\"370.655049\"/>\r\n      </g>\r\n     </g>\r\n     <g id=\"text_9\">\r\n      <!-- 0.0 -->\r\n      <defs>\r\n       <path d=\"M 10.6875 12.40625 \r\nL 21 12.40625 \r\nL 21 0 \r\nL 10.6875 0 \r\nz\r\n\" id=\"DejaVuSans-46\"/>\r\n      </defs>\r\n      <g transform=\"translate(20.878125 374.454268)scale(0.1 -0.1)\">\r\n       <use xlink:href=\"#DejaVuSans-48\"/>\r\n       <use x=\"63.623047\" xlink:href=\"#DejaVuSans-46\"/>\r\n       <use x=\"95.410156\" xlink:href=\"#DejaVuSans-48\"/>\r\n      </g>\r\n     </g>\r\n    </g>\r\n    <g id=\"ytick_2\">\r\n     <g id=\"line2d_9\">\r\n      <g>\r\n       <use style=\"stroke:#000000;stroke-width:0.8;\" x=\"43.78125\" xlink:href=\"#m30c0704a3e\" y=\"291.435421\"/>\r\n      </g>\r\n     </g>\r\n     <g id=\"text_10\">\r\n      <!-- 0.2 -->\r\n      <g transform=\"translate(20.878125 295.23464)scale(0.1 -0.1)\">\r\n       <use xlink:href=\"#DejaVuSans-48\"/>\r\n       <use x=\"63.623047\" xlink:href=\"#DejaVuSans-46\"/>\r\n       <use x=\"95.410156\" xlink:href=\"#DejaVuSans-50\"/>\r\n      </g>\r\n     </g>\r\n    </g>\r\n    <g id=\"ytick_3\">\r\n     <g id=\"line2d_10\">\r\n      <g>\r\n       <use style=\"stroke:#000000;stroke-width:0.8;\" x=\"43.78125\" xlink:href=\"#m30c0704a3e\" y=\"212.215792\"/>\r\n      </g>\r\n     </g>\r\n     <g id=\"text_11\">\r\n      <!-- 0.4 -->\r\n      <defs>\r\n       <path d=\"M 37.796875 64.3125 \r\nL 12.890625 25.390625 \r\nL 37.796875 25.390625 \r\nz\r\nM 35.203125 72.90625 \r\nL 47.609375 72.90625 \r\nL 47.609375 25.390625 \r\nL 58.015625 25.390625 \r\nL 58.015625 17.1875 \r\nL 47.609375 17.1875 \r\nL 47.609375 0 \r\nL 37.796875 0 \r\nL 37.796875 17.1875 \r\nL 4.890625 17.1875 \r\nL 4.890625 26.703125 \r\nz\r\n\" id=\"DejaVuSans-52\"/>\r\n      </defs>\r\n      <g transform=\"translate(20.878125 216.015011)scale(0.1 -0.1)\">\r\n       <use xlink:href=\"#DejaVuSans-48\"/>\r\n       <use x=\"63.623047\" xlink:href=\"#DejaVuSans-46\"/>\r\n       <use x=\"95.410156\" xlink:href=\"#DejaVuSans-52\"/>\r\n      </g>\r\n     </g>\r\n    </g>\r\n    <g id=\"ytick_4\">\r\n     <g id=\"line2d_11\">\r\n      <g>\r\n       <use style=\"stroke:#000000;stroke-width:0.8;\" x=\"43.78125\" xlink:href=\"#m30c0704a3e\" y=\"132.996164\"/>\r\n      </g>\r\n     </g>\r\n     <g id=\"text_12\">\r\n      <!-- 0.6 -->\r\n      <defs>\r\n       <path d=\"M 33.015625 40.375 \r\nQ 26.375 40.375 22.484375 35.828125 \r\nQ 18.609375 31.296875 18.609375 23.390625 \r\nQ 18.609375 15.53125 22.484375 10.953125 \r\nQ 26.375 6.390625 33.015625 6.390625 \r\nQ 39.65625 6.390625 43.53125 10.953125 \r\nQ 47.40625 15.53125 47.40625 23.390625 \r\nQ 47.40625 31.296875 43.53125 35.828125 \r\nQ 39.65625 40.375 33.015625 40.375 \r\nz\r\nM 52.59375 71.296875 \r\nL 52.59375 62.3125 \r\nQ 48.875 64.0625 45.09375 64.984375 \r\nQ 41.3125 65.921875 37.59375 65.921875 \r\nQ 27.828125 65.921875 22.671875 59.328125 \r\nQ 17.53125 52.734375 16.796875 39.40625 \r\nQ 19.671875 43.65625 24.015625 45.921875 \r\nQ 28.375 48.1875 33.59375 48.1875 \r\nQ 44.578125 48.1875 50.953125 41.515625 \r\nQ 57.328125 34.859375 57.328125 23.390625 \r\nQ 57.328125 12.15625 50.6875 5.359375 \r\nQ 44.046875 -1.421875 33.015625 -1.421875 \r\nQ 20.359375 -1.421875 13.671875 8.265625 \r\nQ 6.984375 17.96875 6.984375 36.375 \r\nQ 6.984375 53.65625 15.1875 63.9375 \r\nQ 23.390625 74.21875 37.203125 74.21875 \r\nQ 40.921875 74.21875 44.703125 73.484375 \r\nQ 48.484375 72.75 52.59375 71.296875 \r\nz\r\n\" id=\"DejaVuSans-54\"/>\r\n      </defs>\r\n      <g transform=\"translate(20.878125 136.795383)scale(0.1 -0.1)\">\r\n       <use xlink:href=\"#DejaVuSans-48\"/>\r\n       <use x=\"63.623047\" xlink:href=\"#DejaVuSans-46\"/>\r\n       <use x=\"95.410156\" xlink:href=\"#DejaVuSans-54\"/>\r\n      </g>\r\n     </g>\r\n    </g>\r\n    <g id=\"ytick_5\">\r\n     <g id=\"line2d_12\">\r\n      <g>\r\n       <use style=\"stroke:#000000;stroke-width:0.8;\" x=\"43.78125\" xlink:href=\"#m30c0704a3e\" y=\"53.776535\"/>\r\n      </g>\r\n     </g>\r\n     <g id=\"text_13\">\r\n      <!-- 0.8 -->\r\n      <defs>\r\n       <path d=\"M 31.78125 34.625 \r\nQ 24.75 34.625 20.71875 30.859375 \r\nQ 16.703125 27.09375 16.703125 20.515625 \r\nQ 16.703125 13.921875 20.71875 10.15625 \r\nQ 24.75 6.390625 31.78125 6.390625 \r\nQ 38.8125 6.390625 42.859375 10.171875 \r\nQ 46.921875 13.96875 46.921875 20.515625 \r\nQ 46.921875 27.09375 42.890625 30.859375 \r\nQ 38.875 34.625 31.78125 34.625 \r\nz\r\nM 21.921875 38.8125 \r\nQ 15.578125 40.375 12.03125 44.71875 \r\nQ 8.5 49.078125 8.5 55.328125 \r\nQ 8.5 64.0625 14.71875 69.140625 \r\nQ 20.953125 74.21875 31.78125 74.21875 \r\nQ 42.671875 74.21875 48.875 69.140625 \r\nQ 55.078125 64.0625 55.078125 55.328125 \r\nQ 55.078125 49.078125 51.53125 44.71875 \r\nQ 48 40.375 41.703125 38.8125 \r\nQ 48.828125 37.15625 52.796875 32.3125 \r\nQ 56.78125 27.484375 56.78125 20.515625 \r\nQ 56.78125 9.90625 50.3125 4.234375 \r\nQ 43.84375 -1.421875 31.78125 -1.421875 \r\nQ 19.734375 -1.421875 13.25 4.234375 \r\nQ 6.78125 9.90625 6.78125 20.515625 \r\nQ 6.78125 27.484375 10.78125 32.3125 \r\nQ 14.796875 37.15625 21.921875 38.8125 \r\nz\r\nM 18.3125 54.390625 \r\nQ 18.3125 48.734375 21.84375 45.5625 \r\nQ 25.390625 42.390625 31.78125 42.390625 \r\nQ 38.140625 42.390625 41.71875 45.5625 \r\nQ 45.3125 48.734375 45.3125 54.390625 \r\nQ 45.3125 60.0625 41.71875 63.234375 \r\nQ 38.140625 66.40625 31.78125 66.40625 \r\nQ 25.390625 66.40625 21.84375 63.234375 \r\nQ 18.3125 60.0625 18.3125 54.390625 \r\nz\r\n\" id=\"DejaVuSans-56\"/>\r\n      </defs>\r\n      <g transform=\"translate(20.878125 57.575754)scale(0.1 -0.1)\">\r\n       <use xlink:href=\"#DejaVuSans-48\"/>\r\n       <use x=\"63.623047\" xlink:href=\"#DejaVuSans-46\"/>\r\n       <use x=\"95.410156\" xlink:href=\"#DejaVuSans-56\"/>\r\n      </g>\r\n     </g>\r\n    </g>\r\n    <g id=\"text_14\">\r\n     <!-- Objective value -->\r\n     <defs>\r\n      <path d=\"M 39.40625 66.21875 \r\nQ 28.65625 66.21875 22.328125 58.203125 \r\nQ 16.015625 50.203125 16.015625 36.375 \r\nQ 16.015625 22.609375 22.328125 14.59375 \r\nQ 28.65625 6.59375 39.40625 6.59375 \r\nQ 50.140625 6.59375 56.421875 14.59375 \r\nQ 62.703125 22.609375 62.703125 36.375 \r\nQ 62.703125 50.203125 56.421875 58.203125 \r\nQ 50.140625 66.21875 39.40625 66.21875 \r\nz\r\nM 39.40625 74.21875 \r\nQ 54.734375 74.21875 63.90625 63.9375 \r\nQ 73.09375 53.65625 73.09375 36.375 \r\nQ 73.09375 19.140625 63.90625 8.859375 \r\nQ 54.734375 -1.421875 39.40625 -1.421875 \r\nQ 24.03125 -1.421875 14.8125 8.828125 \r\nQ 5.609375 19.09375 5.609375 36.375 \r\nQ 5.609375 53.65625 14.8125 63.9375 \r\nQ 24.03125 74.21875 39.40625 74.21875 \r\nz\r\n\" id=\"DejaVuSans-79\"/>\r\n      <path d=\"M 9.421875 54.6875 \r\nL 18.40625 54.6875 \r\nL 18.40625 -0.984375 \r\nQ 18.40625 -11.421875 14.421875 -16.109375 \r\nQ 10.453125 -20.796875 1.609375 -20.796875 \r\nL -1.8125 -20.796875 \r\nL -1.8125 -13.1875 \r\nL 0.59375 -13.1875 \r\nQ 5.71875 -13.1875 7.5625 -10.8125 \r\nQ 9.421875 -8.453125 9.421875 -0.984375 \r\nz\r\nM 9.421875 75.984375 \r\nL 18.40625 75.984375 \r\nL 18.40625 64.59375 \r\nL 9.421875 64.59375 \r\nz\r\n\" id=\"DejaVuSans-106\"/>\r\n      <path d=\"M 48.78125 52.59375 \r\nL 48.78125 44.1875 \r\nQ 44.96875 46.296875 41.140625 47.34375 \r\nQ 37.3125 48.390625 33.40625 48.390625 \r\nQ 24.65625 48.390625 19.8125 42.84375 \r\nQ 14.984375 37.3125 14.984375 27.296875 \r\nQ 14.984375 17.28125 19.8125 11.734375 \r\nQ 24.65625 6.203125 33.40625 6.203125 \r\nQ 37.3125 6.203125 41.140625 7.25 \r\nQ 44.96875 8.296875 48.78125 10.40625 \r\nL 48.78125 2.09375 \r\nQ 45.015625 0.34375 40.984375 -0.53125 \r\nQ 36.96875 -1.421875 32.421875 -1.421875 \r\nQ 20.0625 -1.421875 12.78125 6.34375 \r\nQ 5.515625 14.109375 5.515625 27.296875 \r\nQ 5.515625 40.671875 12.859375 48.328125 \r\nQ 20.21875 56 33.015625 56 \r\nQ 37.15625 56 41.109375 55.140625 \r\nQ 45.0625 54.296875 48.78125 52.59375 \r\nz\r\n\" id=\"DejaVuSans-99\"/>\r\n      <path d=\"M 18.3125 70.21875 \r\nL 18.3125 54.6875 \r\nL 36.8125 54.6875 \r\nL 36.8125 47.703125 \r\nL 18.3125 47.703125 \r\nL 18.3125 18.015625 \r\nQ 18.3125 11.328125 20.140625 9.421875 \r\nQ 21.96875 7.515625 27.59375 7.515625 \r\nL 36.8125 7.515625 \r\nL 36.8125 0 \r\nL 27.59375 0 \r\nQ 17.1875 0 13.234375 3.875 \r\nQ 9.28125 7.765625 9.28125 18.015625 \r\nL 9.28125 47.703125 \r\nL 2.6875 47.703125 \r\nL 2.6875 54.6875 \r\nL 9.28125 54.6875 \r\nL 9.28125 70.21875 \r\nz\r\n\" id=\"DejaVuSans-116\"/>\r\n      <path d=\"M 9.421875 54.6875 \r\nL 18.40625 54.6875 \r\nL 18.40625 0 \r\nL 9.421875 0 \r\nz\r\nM 9.421875 75.984375 \r\nL 18.40625 75.984375 \r\nL 18.40625 64.59375 \r\nL 9.421875 64.59375 \r\nz\r\n\" id=\"DejaVuSans-105\"/>\r\n      <path d=\"M 2.984375 54.6875 \r\nL 12.5 54.6875 \r\nL 29.59375 8.796875 \r\nL 46.6875 54.6875 \r\nL 56.203125 54.6875 \r\nL 35.6875 0 \r\nL 23.484375 0 \r\nz\r\n\" id=\"DejaVuSans-118\"/>\r\n      <path d=\"M 34.28125 27.484375 \r\nQ 23.390625 27.484375 19.1875 25 \r\nQ 14.984375 22.515625 14.984375 16.5 \r\nQ 14.984375 11.71875 18.140625 8.90625 \r\nQ 21.296875 6.109375 26.703125 6.109375 \r\nQ 34.1875 6.109375 38.703125 11.40625 \r\nQ 43.21875 16.703125 43.21875 25.484375 \r\nL 43.21875 27.484375 \r\nz\r\nM 52.203125 31.203125 \r\nL 52.203125 0 \r\nL 43.21875 0 \r\nL 43.21875 8.296875 \r\nQ 40.140625 3.328125 35.546875 0.953125 \r\nQ 30.953125 -1.421875 24.3125 -1.421875 \r\nQ 15.921875 -1.421875 10.953125 3.296875 \r\nQ 6 8.015625 6 15.921875 \r\nQ 6 25.140625 12.171875 29.828125 \r\nQ 18.359375 34.515625 30.609375 34.515625 \r\nL 43.21875 34.515625 \r\nL 43.21875 35.40625 \r\nQ 43.21875 41.609375 39.140625 45 \r\nQ 35.0625 48.390625 27.6875 48.390625 \r\nQ 23 48.390625 18.546875 47.265625 \r\nQ 14.109375 46.140625 10.015625 43.890625 \r\nL 10.015625 52.203125 \r\nQ 14.9375 54.109375 19.578125 55.046875 \r\nQ 24.21875 56 28.609375 56 \r\nQ 40.484375 56 46.34375 49.84375 \r\nQ 52.203125 43.703125 52.203125 31.203125 \r\nz\r\n\" id=\"DejaVuSans-97\"/>\r\n      <path d=\"M 9.421875 75.984375 \r\nL 18.40625 75.984375 \r\nL 18.40625 0 \r\nL 9.421875 0 \r\nz\r\n\" id=\"DejaVuSans-108\"/>\r\n     </defs>\r\n     <g transform=\"translate(14.798438 236.417031)rotate(-90)scale(0.1 -0.1)\">\r\n      <use xlink:href=\"#DejaVuSans-79\"/>\r\n      <use x=\"78.710938\" xlink:href=\"#DejaVuSans-98\"/>\r\n      <use x=\"142.1875\" xlink:href=\"#DejaVuSans-106\"/>\r\n      <use x=\"169.970703\" xlink:href=\"#DejaVuSans-101\"/>\r\n      <use x=\"231.494141\" xlink:href=\"#DejaVuSans-99\"/>\r\n      <use x=\"286.474609\" xlink:href=\"#DejaVuSans-116\"/>\r\n      <use x=\"325.683594\" xlink:href=\"#DejaVuSans-105\"/>\r\n      <use x=\"353.466797\" xlink:href=\"#DejaVuSans-118\"/>\r\n      <use x=\"412.646484\" xlink:href=\"#DejaVuSans-101\"/>\r\n      <use x=\"474.169922\" xlink:href=\"#DejaVuSans-32\"/>\r\n      <use x=\"505.957031\" xlink:href=\"#DejaVuSans-118\"/>\r\n      <use x=\"565.136719\" xlink:href=\"#DejaVuSans-97\"/>\r\n      <use x=\"626.416016\" xlink:href=\"#DejaVuSans-108\"/>\r\n      <use x=\"654.199219\" xlink:href=\"#DejaVuSans-117\"/>\r\n      <use x=\"717.578125\" xlink:href=\"#DejaVuSans-101\"/>\r\n     </g>\r\n    </g>\r\n   </g>\r\n   <g id=\"line2d_13\">\r\n    <path clip-path=\"url(#p6cf7211053)\" d=\"M 74.217614 24.496364 \r\nL 88.841692 28.563634 \r\nL 682.944886 370.423636 \r\nL 682.944886 370.423636 \r\n\" style=\"fill:none;stroke:#1f77b4;stroke-linecap:square;stroke-width:1.5;\"/>\r\n   </g>\r\n   <g id=\"patch_3\">\r\n    <path d=\"M 43.78125 387.72 \r\nL 43.78125 7.2 \r\n\" style=\"fill:none;stroke:#000000;stroke-linecap:square;stroke-linejoin:miter;stroke-width:0.8;\"/>\r\n   </g>\r\n   <g id=\"patch_4\">\r\n    <path d=\"M 713.38125 387.72 \r\nL 713.38125 7.2 \r\n\" style=\"fill:none;stroke:#000000;stroke-linecap:square;stroke-linejoin:miter;stroke-width:0.8;\"/>\r\n   </g>\r\n   <g id=\"patch_5\">\r\n    <path d=\"M 43.78125 387.72 \r\nL 713.38125 387.72 \r\n\" style=\"fill:none;stroke:#000000;stroke-linecap:square;stroke-linejoin:miter;stroke-width:0.8;\"/>\r\n   </g>\r\n   <g id=\"patch_6\">\r\n    <path d=\"M 43.78125 7.2 \r\nL 713.38125 7.2 \r\n\" style=\"fill:none;stroke:#000000;stroke-linecap:square;stroke-linejoin:miter;stroke-width:0.8;\"/>\r\n   </g>\r\n  </g>\r\n </g>\r\n <defs>\r\n  <clipPath id=\"p6cf7211053\">\r\n   <rect height=\"380.52\" width=\"669.6\" x=\"43.78125\" y=\"7.2\"/>\r\n  </clipPath>\r\n </defs>\r\n</svg>\r\n",
      "image/png": "[encoded data removed]"
     },
     "metadata": {
      "needs_background": "light"
     }
    }
   ],
   "source": [
    "import numpy as np\n",
    "import matplotlib.pyplot as plt\n",
    "\n",
    "plt.figure(figsize=(12, 7))\n",
    "with model:\n",
    "    X = np.arange(0, 1000)\n",
    "    Y = np.zeros(X.shape)\n",
    "    for i, x in enumerate(X):\n",
    "        THD2 = model.reactions.get_by_id(\"THD2\")\n",
    "        THD2.lower_bound = x\n",
    "        Y[i] = model.slim_optimize()\n",
    "    plt.xlabel(\"Lower bound of THD2\")\n",
    "    plt.ylabel(\"Objective value\")\n",
    "    plt.plot(X, Y)"
   ]
  },
  {
   "cell_type": "code",
   "execution_count": 28,
   "metadata": {},
   "outputs": [
    {
     "output_type": "stream",
     "name": "stdout",
     "text": "29.1 µs ± 226 ns per loop (mean ± std. dev. of 7 runs, 10000 loops each)\n"
    }
   ],
   "source": [
    "%%timeit\n",
    "model.slim_optimize()"
   ]
  },
  {
   "cell_type": "code",
   "execution_count": 29,
   "metadata": {},
   "outputs": [
    {
     "output_type": "stream",
     "name": "stdout",
     "text": "3.55 ms ± 77.8 µs per loop (mean ± std. dev. of 7 runs, 100 loops each)\n"
    }
   ],
   "source": [
    "%%timeit\n",
    "model.optimize()"
   ]
  },
  {
   "cell_type": "code",
   "execution_count": 17,
   "metadata": {},
   "outputs": [
    {
     "output_type": "execute_result",
     "data": {
      "text/plain": "<cobra.core.summary.model_summary.ModelSummary at 0x2255f10df28>",
      "text/html": "<div>\n<style scoped>\n    .dataframe tbody tr th:only-of-type {\n        vertical-align: middle;\n    }\n\n    .dataframe tbody tr th {\n        vertical-align: top;\n    }\n\n    .dataframe thead tr th {\n        text-align: left;\n    }\n</style>\n<table border=\"1\" class=\"dataframe\">\n  <thead>\n    <tr>\n      <th></th>\n      <th colspan=\"2\" halign=\"left\">IN_FLUXES</th>\n      <th colspan=\"2\" halign=\"left\">OUT_FLUXES</th>\n      <th colspan=\"2\" halign=\"left\">OBJECTIVES</th>\n    </tr>\n    <tr>\n      <th></th>\n      <th>ID</th>\n      <th>FLUX</th>\n      <th>ID</th>\n      <th>FLUX</th>\n      <th>ID</th>\n      <th>FLUX</th>\n    </tr>\n  </thead>\n  <tbody>\n    <tr>\n      <th>0</th>\n      <td>o2_e</td>\n      <td>21.799493</td>\n      <td>h2o_e</td>\n      <td>29.175827</td>\n      <td>Biomass_Ecoli_core</td>\n      <td>0.873922</td>\n    </tr>\n    <tr>\n      <th>1</th>\n      <td>glc__D_e</td>\n      <td>10.000000</td>\n      <td>co2_e</td>\n      <td>22.809833</td>\n      <td>NaN</td>\n      <td>NaN</td>\n    </tr>\n    <tr>\n      <th>2</th>\n      <td>nh4_e</td>\n      <td>4.765319</td>\n      <td>h_e</td>\n      <td>17.530865</td>\n      <td>NaN</td>\n      <td>NaN</td>\n    </tr>\n    <tr>\n      <th>3</th>\n      <td>pi_e</td>\n      <td>3.214895</td>\n      <td>NaN</td>\n      <td>NaN</td>\n      <td>NaN</td>\n      <td>NaN</td>\n    </tr>\n  </tbody>\n</table>\n</div>"
     },
     "metadata": {},
     "execution_count": 17
    }
   ],
   "source": [
    "model.summary()"
   ]
  },
  {
   "cell_type": "code",
   "execution_count": 51,
   "metadata": {},
   "outputs": [
    {
     "output_type": "execute_result",
     "data": {
      "text/plain": "<cobra.core.summary.metabolite_summary.MetaboliteSummary at 0x2256eac35c0>",
      "text/html": "<div>\n<style scoped>\n    .dataframe tbody tr th:only-of-type {\n        vertical-align: middle;\n    }\n\n    .dataframe tbody tr th {\n        vertical-align: top;\n    }\n\n    .dataframe thead th {\n        text-align: right;\n    }\n</style>\n<table border=\"1\" class=\"dataframe\">\n  <thead>\n    <tr style=\"text-align: right;\">\n      <th></th>\n      <th></th>\n      <th>PERCENT</th>\n      <th>FLUX</th>\n      <th>REACTION_STRING</th>\n    </tr>\n    <tr>\n      <th>RXN_STAT</th>\n      <th>ID</th>\n      <th></th>\n      <th></th>\n      <th></th>\n    </tr>\n  </thead>\n  <tbody>\n    <tr>\n      <th rowspan=\"4\" valign=\"top\">PRODUCING</th>\n      <th>ATPS4r</th>\n      <td>66.579799</td>\n      <td>45.514010</td>\n      <td>adp_c + 4.0 h_e + pi_c &lt;=&gt; atp_c + h2o_c + 3.0...</td>\n    </tr>\n    <tr>\n      <th>PGK</th>\n      <td>23.439885</td>\n      <td>16.023526</td>\n      <td>3pg_c + atp_c &lt;=&gt; 13dpg_c + adp_c</td>\n    </tr>\n    <tr>\n      <th>SUCOAS</th>\n      <td>7.408381</td>\n      <td>5.064376</td>\n      <td>atp_c + coa_c + succ_c &lt;=&gt; adp_c + pi_c + succ...</td>\n    </tr>\n    <tr>\n      <th>PYK</th>\n      <td>2.571936</td>\n      <td>1.758177</td>\n      <td>adp_c + h_c + pep_c --&gt; atp_c + pyr_c</td>\n    </tr>\n    <tr>\n      <th rowspan=\"3\" valign=\"top\">CONSUMING</th>\n      <th>Biomass_Ecoli_core</th>\n      <td>76.461640</td>\n      <td>52.269245</td>\n      <td>1.496 3pg_c + 3.7478 accoa_c + 59.81 atp_c + 0...</td>\n    </tr>\n    <tr>\n      <th>ATPM</th>\n      <td>12.273243</td>\n      <td>8.390000</td>\n      <td>atp_c + h2o_c --&gt; adp_c + h_c + pi_c</td>\n    </tr>\n    <tr>\n      <th>PFK</th>\n      <td>10.938227</td>\n      <td>7.477382</td>\n      <td>atp_c + f6p_c --&gt; adp_c + fdp_c + h_c</td>\n    </tr>\n  </tbody>\n</table>\n</div>"
     },
     "metadata": {},
     "execution_count": 51
    }
   ],
   "source": [
    "model.metabolites.get_by_id(\"atp_c\").summary()"
   ]
  },
  {
   "cell_type": "markdown",
   "metadata": {},
   "source": [
    "## Flux variability analysis(FVA)"
   ]
  },
  {
   "cell_type": "code",
   "execution_count": 53,
   "metadata": {},
   "outputs": [
    {
     "output_type": "execute_result",
     "data": {
      "text/plain": "         minimum    maximum\nACALD  -5.084741   0.000000\nACALDt -5.084741   0.000000\nACKr   -7.564396   0.000000\nACONTa  0.754299  10.128462\nACONTb  0.754299  10.128462\n...          ...        ...\nTALA   -0.154536   9.249088\nTHD2    0.000000  69.950657\nTKT1   -0.154536   9.249088\nTKT2   -0.466373   8.996699\nTPI    -0.069595   9.304568\n\n[95 rows x 2 columns]",
      "text/html": "<div>\n<style scoped>\n    .dataframe tbody tr th:only-of-type {\n        vertical-align: middle;\n    }\n\n    .dataframe tbody tr th {\n        vertical-align: top;\n    }\n\n    .dataframe thead th {\n        text-align: right;\n    }\n</style>\n<table border=\"1\" class=\"dataframe\">\n  <thead>\n    <tr style=\"text-align: right;\">\n      <th></th>\n      <th>minimum</th>\n      <th>maximum</th>\n    </tr>\n  </thead>\n  <tbody>\n    <tr>\n      <th>ACALD</th>\n      <td>-5.084741</td>\n      <td>0.000000</td>\n    </tr>\n    <tr>\n      <th>ACALDt</th>\n      <td>-5.084741</td>\n      <td>0.000000</td>\n    </tr>\n    <tr>\n      <th>ACKr</th>\n      <td>-7.564396</td>\n      <td>0.000000</td>\n    </tr>\n    <tr>\n      <th>ACONTa</th>\n      <td>0.754299</td>\n      <td>10.128462</td>\n    </tr>\n    <tr>\n      <th>ACONTb</th>\n      <td>0.754299</td>\n      <td>10.128462</td>\n    </tr>\n    <tr>\n      <th>...</th>\n      <td>...</td>\n      <td>...</td>\n    </tr>\n    <tr>\n      <th>TALA</th>\n      <td>-0.154536</td>\n      <td>9.249088</td>\n    </tr>\n    <tr>\n      <th>THD2</th>\n      <td>0.000000</td>\n      <td>69.950657</td>\n    </tr>\n    <tr>\n      <th>TKT1</th>\n      <td>-0.154536</td>\n      <td>9.249088</td>\n    </tr>\n    <tr>\n      <th>TKT2</th>\n      <td>-0.466373</td>\n      <td>8.996699</td>\n    </tr>\n    <tr>\n      <th>TPI</th>\n      <td>-0.069595</td>\n      <td>9.304568</td>\n    </tr>\n  </tbody>\n</table>\n<p>95 rows × 2 columns</p>\n</div>"
     },
     "metadata": {},
     "execution_count": 53
    }
   ],
   "source": [
    "\n",
    "from cobra.flux_analysis import flux_variability_analysis as fva\n",
    "\n",
    "sol = fva(model, fraction_of_optimum=0.8)\n",
    "sol"
   ]
  },
  {
   "cell_type": "code",
   "execution_count": 54,
   "metadata": {},
   "outputs": [
    {
     "output_type": "execute_result",
     "data": {
      "text/plain": "<cobra.core.summary.model_summary.ModelSummary at 0x225709e3550>",
      "text/html": "<div>\n<style scoped>\n    .dataframe tbody tr th:only-of-type {\n        vertical-align: middle;\n    }\n\n    .dataframe tbody tr th {\n        vertical-align: top;\n    }\n\n    .dataframe thead tr th {\n        text-align: left;\n    }\n</style>\n<table border=\"1\" class=\"dataframe\">\n  <thead>\n    <tr>\n      <th></th>\n      <th colspan=\"4\" halign=\"left\">IN_FLUXES</th>\n      <th colspan=\"4\" halign=\"left\">OUT_FLUXES</th>\n      <th colspan=\"2\" halign=\"left\">OBJECTIVES</th>\n    </tr>\n    <tr>\n      <th></th>\n      <th>ID</th>\n      <th>FLUX</th>\n      <th>FLUX_MIN</th>\n      <th>FLUX_MAX</th>\n      <th>ID</th>\n      <th>FLUX</th>\n      <th>FLUX_MIN</th>\n      <th>FLUX_MAX</th>\n      <th>ID</th>\n      <th>FLUX</th>\n    </tr>\n  </thead>\n  <tbody>\n    <tr>\n      <th>0</th>\n      <td>o2_e</td>\n      <td>21.799493</td>\n      <td>14.310802</td>\n      <td>29.439594</td>\n      <td>h2o_e</td>\n      <td>29.175827</td>\n      <td>15.907037</td>\n      <td>35.340662</td>\n      <td>Biomass_Ecoli_core</td>\n      <td>0.873922</td>\n    </tr>\n    <tr>\n      <th>1</th>\n      <td>glc__D_e</td>\n      <td>10.000000</td>\n      <td>8.093222</td>\n      <td>10.000000</td>\n      <td>co2_e</td>\n      <td>22.809833</td>\n      <td>10.814242</td>\n      <td>30.247867</td>\n      <td>NaN</td>\n      <td>NaN</td>\n    </tr>\n    <tr>\n      <th>2</th>\n      <td>nh4_e</td>\n      <td>4.765319</td>\n      <td>3.812255</td>\n      <td>6.354626</td>\n      <td>h_e</td>\n      <td>17.530865</td>\n      <td>14.024692</td>\n      <td>33.084661</td>\n      <td>NaN</td>\n      <td>NaN</td>\n    </tr>\n    <tr>\n      <th>3</th>\n      <td>pi_e</td>\n      <td>3.214895</td>\n      <td>2.571916</td>\n      <td>3.214895</td>\n      <td>for_e</td>\n      <td>0.000000</td>\n      <td>0.000000</td>\n      <td>19.059969</td>\n      <td>NaN</td>\n      <td>NaN</td>\n    </tr>\n    <tr>\n      <th>4</th>\n      <td>NaN</td>\n      <td>NaN</td>\n      <td>NaN</td>\n      <td>NaN</td>\n      <td>ac_e</td>\n      <td>0.000000</td>\n      <td>0.000000</td>\n      <td>7.564396</td>\n      <td>NaN</td>\n      <td>NaN</td>\n    </tr>\n    <tr>\n      <th>5</th>\n      <td>NaN</td>\n      <td>NaN</td>\n      <td>NaN</td>\n      <td>NaN</td>\n      <td>acald_e</td>\n      <td>0.000000</td>\n      <td>0.000000</td>\n      <td>5.084741</td>\n      <td>NaN</td>\n      <td>NaN</td>\n    </tr>\n    <tr>\n      <th>6</th>\n      <td>NaN</td>\n      <td>NaN</td>\n      <td>NaN</td>\n      <td>NaN</td>\n      <td>pyr_e</td>\n      <td>0.000000</td>\n      <td>0.000000</td>\n      <td>5.084741</td>\n      <td>NaN</td>\n      <td>NaN</td>\n    </tr>\n    <tr>\n      <th>7</th>\n      <td>NaN</td>\n      <td>NaN</td>\n      <td>NaN</td>\n      <td>NaN</td>\n      <td>etoh_e</td>\n      <td>0.000000</td>\n      <td>0.000000</td>\n      <td>4.428645</td>\n      <td>NaN</td>\n      <td>NaN</td>\n    </tr>\n    <tr>\n      <th>8</th>\n      <td>NaN</td>\n      <td>NaN</td>\n      <td>NaN</td>\n      <td>NaN</td>\n      <td>lac__D_e</td>\n      <td>0.000000</td>\n      <td>0.000000</td>\n      <td>4.290250</td>\n      <td>NaN</td>\n      <td>NaN</td>\n    </tr>\n    <tr>\n      <th>9</th>\n      <td>NaN</td>\n      <td>NaN</td>\n      <td>NaN</td>\n      <td>NaN</td>\n      <td>succ_e</td>\n      <td>0.000000</td>\n      <td>0.000000</td>\n      <td>3.348488</td>\n      <td>NaN</td>\n      <td>NaN</td>\n    </tr>\n    <tr>\n      <th>10</th>\n      <td>NaN</td>\n      <td>NaN</td>\n      <td>NaN</td>\n      <td>NaN</td>\n      <td>akg_e</td>\n      <td>0.000000</td>\n      <td>0.000000</td>\n      <td>2.860167</td>\n      <td>NaN</td>\n      <td>NaN</td>\n    </tr>\n    <tr>\n      <th>11</th>\n      <td>NaN</td>\n      <td>NaN</td>\n      <td>NaN</td>\n      <td>NaN</td>\n      <td>glu__L_e</td>\n      <td>0.000000</td>\n      <td>0.000000</td>\n      <td>2.542370</td>\n      <td>NaN</td>\n      <td>NaN</td>\n    </tr>\n  </tbody>\n</table>\n</div>"
     },
     "metadata": {},
     "execution_count": 54
    }
   ],
   "source": [
    "model.summary(fva=0.8)"
   ]
  },
  {
   "cell_type": "code",
   "execution_count": 55,
   "metadata": {},
   "outputs": [
    {
     "output_type": "execute_result",
     "data": {
      "text/plain": "<cobra.core.summary.metabolite_summary.MetaboliteSummary at 0x225709e1860>",
      "text/html": "<div>\n<style scoped>\n    .dataframe tbody tr th:only-of-type {\n        vertical-align: middle;\n    }\n\n    .dataframe tbody tr th {\n        vertical-align: top;\n    }\n\n    .dataframe thead th {\n        text-align: right;\n    }\n</style>\n<table border=\"1\" class=\"dataframe\">\n  <thead>\n    <tr style=\"text-align: right;\">\n      <th></th>\n      <th></th>\n      <th>PERCENT</th>\n      <th>FLUX</th>\n      <th>FLUX_MIN</th>\n      <th>FLUX_MAX</th>\n      <th>REACTION_STRING</th>\n    </tr>\n    <tr>\n      <th>RXN_STAT</th>\n      <th>ID</th>\n      <th></th>\n      <th></th>\n      <th></th>\n      <th></th>\n      <th></th>\n    </tr>\n  </thead>\n  <tbody>\n    <tr>\n      <th rowspan=\"5\" valign=\"top\">PRODUCING</th>\n      <th>ATPS4r</th>\n      <td>66.579799</td>\n      <td>45.514010</td>\n      <td>27.443883</td>\n      <td>69.449833</td>\n      <td>adp_c + 4.0 h_e + pi_c &lt;=&gt; atp_c + h2o_c + 3.0...</td>\n    </tr>\n    <tr>\n      <th>PGK</th>\n      <td>23.439885</td>\n      <td>16.023526</td>\n      <td>8.767320</td>\n      <td>18.141484</td>\n      <td>3pg_c + atp_c &lt;=&gt; 13dpg_c + adp_c</td>\n    </tr>\n    <tr>\n      <th>SUCOAS</th>\n      <td>7.408381</td>\n      <td>5.064376</td>\n      <td>-0.000000</td>\n      <td>9.374163</td>\n      <td>atp_c + coa_c + succ_c &lt;=&gt; adp_c + pi_c + succ...</td>\n    </tr>\n    <tr>\n      <th>PYK</th>\n      <td>2.571936</td>\n      <td>1.758177</td>\n      <td>0.000000</td>\n      <td>39.630438</td>\n      <td>adp_c + h_c + pep_c --&gt; atp_c + pyr_c</td>\n    </tr>\n    <tr>\n      <th>ACKr</th>\n      <td>-0.000000</td>\n      <td>-0.000000</td>\n      <td>-0.000000</td>\n      <td>7.564396</td>\n      <td>ac_c + atp_c &lt;=&gt; actp_c + adp_c</td>\n    </tr>\n    <tr>\n      <th rowspan=\"7\" valign=\"top\">CONSUMING</th>\n      <th>Biomass_Ecoli_core</th>\n      <td>76.461640</td>\n      <td>52.269245</td>\n      <td>41.815396</td>\n      <td>52.269245</td>\n      <td>1.496 3pg_c + 3.7478 accoa_c + 59.81 atp_c + 0...</td>\n    </tr>\n    <tr>\n      <th>ATPM</th>\n      <td>12.273243</td>\n      <td>8.390000</td>\n      <td>8.390000</td>\n      <td>42.712000</td>\n      <td>atp_c + h2o_c --&gt; adp_c + h_c + pi_c</td>\n    </tr>\n    <tr>\n      <th>PFK</th>\n      <td>10.938227</td>\n      <td>7.477382</td>\n      <td>0.000000</td>\n      <td>43.103906</td>\n      <td>atp_c + f6p_c --&gt; adp_c + fdp_c + h_c</td>\n    </tr>\n    <tr>\n      <th>GLNS</th>\n      <td>0.326889</td>\n      <td>0.223462</td>\n      <td>0.178769</td>\n      <td>34.500769</td>\n      <td>atp_c + glu__L_c + nh4_c --&gt; adp_c + gln__L_c ...</td>\n    </tr>\n    <tr>\n      <th>ADK1</th>\n      <td>0.000000</td>\n      <td>0.000000</td>\n      <td>0.000000</td>\n      <td>34.322000</td>\n      <td>amp_c + atp_c &lt;=&gt; 2.0 adp_c</td>\n    </tr>\n    <tr>\n      <th>PPS</th>\n      <td>0.000000</td>\n      <td>0.000000</td>\n      <td>0.000000</td>\n      <td>34.322000</td>\n      <td>atp_c + h2o_c + pyr_c --&gt; amp_c + 2.0 h_c + pe...</td>\n    </tr>\n    <tr>\n      <th>PPCK</th>\n      <td>0.000000</td>\n      <td>0.000000</td>\n      <td>0.000000</td>\n      <td>34.322000</td>\n      <td>atp_c + oaa_c --&gt; adp_c + co2_c + pep_c</td>\n    </tr>\n  </tbody>\n</table>\n</div>"
     },
     "metadata": {},
     "execution_count": 55
    }
   ],
   "source": [
    "model.metabolites.get_by_id(\"atp_c\").summary(fva=0.8)"
   ]
  },
  {
   "cell_type": "code",
   "execution_count": 65,
   "metadata": {},
   "outputs": [
    {
     "output_type": "execute_result",
     "data": {
      "text/plain": "<Solution 518.422 at 0x233c6563390>",
      "text/html": "<strong><em>Optimal</em> solution with objective value 518.422</strong><br><div>\n<style scoped>\n    .dataframe tbody tr th:only-of-type {\n        vertical-align: middle;\n    }\n\n    .dataframe tbody tr th {\n        vertical-align: top;\n    }\n\n    .dataframe thead th {\n        text-align: right;\n    }\n</style>\n<table border=\"1\" class=\"dataframe\">\n  <thead>\n    <tr style=\"text-align: right;\">\n      <th></th>\n      <th>fluxes</th>\n      <th>reduced_costs</th>\n    </tr>\n  </thead>\n  <tbody>\n    <tr>\n      <th>ACALD</th>\n      <td>0.000000</td>\n      <td>-2.000000</td>\n    </tr>\n    <tr>\n      <th>ACALDt</th>\n      <td>0.000000</td>\n      <td>-2.000000</td>\n    </tr>\n    <tr>\n      <th>ACKr</th>\n      <td>0.000000</td>\n      <td>2.000000</td>\n    </tr>\n    <tr>\n      <th>ACONTa</th>\n      <td>6.007250</td>\n      <td>-2.000000</td>\n    </tr>\n    <tr>\n      <th>ACONTb</th>\n      <td>6.007250</td>\n      <td>-2.000000</td>\n    </tr>\n    <tr>\n      <th>...</th>\n      <td>...</td>\n      <td>...</td>\n    </tr>\n    <tr>\n      <th>TALA</th>\n      <td>1.496984</td>\n      <td>-2.000000</td>\n    </tr>\n    <tr>\n      <th>THD2</th>\n      <td>0.000000</td>\n      <td>3.822222</td>\n    </tr>\n    <tr>\n      <th>TKT1</th>\n      <td>1.496984</td>\n      <td>-2.000000</td>\n    </tr>\n    <tr>\n      <th>TKT2</th>\n      <td>1.181498</td>\n      <td>-2.000000</td>\n    </tr>\n    <tr>\n      <th>TPI</th>\n      <td>7.477382</td>\n      <td>-2.000000</td>\n    </tr>\n  </tbody>\n</table>\n<p>95 rows × 2 columns</p>\n</div>"
     },
     "metadata": {},
     "execution_count": 65
    }
   ],
   "source": [
    "### pFBA\n",
    "from cobra.flux_analysis import pfba\n",
    "\n",
    "sol = pfba(model)\n",
    "sol"
   ]
  },
  {
   "cell_type": "code",
   "execution_count": 66,
   "metadata": {},
   "outputs": [
    {
     "output_type": "execute_result",
     "data": {
      "text/plain": "518.4220855176068"
     },
     "metadata": {},
     "execution_count": 66
    }
   ],
   "source": [
    "sol.objective_value"
   ]
  },
  {
   "cell_type": "code",
   "execution_count": 68,
   "metadata": {},
   "outputs": [
    {
     "output_type": "execute_result",
     "data": {
      "text/plain": "518.4220855176067"
     },
     "metadata": {},
     "execution_count": 68
    }
   ],
   "source": [
    "# the objective value is the sum of fluxes\n",
    "sol.fluxes.abs().sum()"
   ]
  }
 ],
 "metadata": {
  "kernelspec": {
   "display_name": "Python 3.6.9 64-bit ('base': conda)",
   "language": "python",
   "name": "python36964bitbaseconda7472f2871c4641dea86f0bd8ded813c2"
  },
  "language_info": {
   "codemirror_mode": {
    "name": "ipython",
    "version": 3
   },
   "file_extension": ".py",
   "mimetype": "text/x-python",
   "name": "python",
   "nbconvert_exporter": "python",
   "pygments_lexer": "ipython3",
   "version": "3.6.10-final"
  }
 },
 "nbformat": 4,
 "nbformat_minor": 2
}