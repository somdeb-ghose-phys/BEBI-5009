{
 "cells": [
  {
   "cell_type": "markdown",
   "id": "0930a072",
   "metadata": {},
   "source": [
    "# Problem 2.4.6"
   ]
  },
  {
   "cell_type": "code",
   "execution_count": 1,
   "id": "6d6ee0bf",
   "metadata": {},
   "outputs": [
    {
     "data": {
      "text/plain": [
       "Plots.GRBackend()"
      ]
     },
     "execution_count": 1,
     "metadata": {},
     "output_type": "execute_result"
    }
   ],
   "source": [
    "using Plots, DifferentialEquations\n",
    "Plots.gr(lw=2)"
   ]
  },
  {
   "cell_type": "code",
   "execution_count": 2,
   "id": "b335a5af",
   "metadata": {},
   "outputs": [
    {
     "data": {
      "text/plain": [
       "f (generic function with 1 method)"
      ]
     },
     "execution_count": 2,
     "metadata": {},
     "output_type": "execute_result"
    }
   ],
   "source": [
    "# Model\n",
    "f(u, p, t) = p * (1.0-u)"
   ]
  },
  {
   "cell_type": "code",
   "execution_count": 3,
   "id": "2b096b1d",
   "metadata": {},
   "outputs": [
    {
     "data": {
      "text/plain": [
       "10.0"
      ]
     },
     "execution_count": 3,
     "metadata": {},
     "output_type": "execute_result"
    }
   ],
   "source": [
    "p = 1.0\n",
    "u0 = 0.0\n",
    "tspan = 10.0"
   ]
  },
  {
   "cell_type": "code",
   "execution_count": 4,
   "id": "af00e7dd",
   "metadata": {},
   "outputs": [
    {
     "data": {
      "text/plain": [
       "\u001b[36mODEProblem\u001b[0m with uType \u001b[36mFloat64\u001b[0m and tType \u001b[36mFloat64\u001b[0m. In-place: \u001b[36mfalse\u001b[0m\n",
       "timespan: (0.0, 10.0)\n",
       "u0: 0.0"
      ]
     },
     "execution_count": 4,
     "metadata": {},
     "output_type": "execute_result"
    }
   ],
   "source": [
    "prob = ODEProblem(f, u0, tspan, p)"
   ]
  },
  {
   "cell_type": "code",
   "execution_count": null,
   "id": "b660b1c9",
   "metadata": {},
   "outputs": [],
   "source": [
    "sol = solve(prob)\n",
    "plot(sol, xlabel=\"Time (arbitrary units)\", ylabel=\"Concentration (arbitrary units)\", legend=:bottomright)"
   ]
  }
 ],
 "metadata": {
  "kernelspec": {
   "display_name": "Julia 1.6.2",
   "language": "julia",
   "name": "julia-1.6"
  },
  "language_info": {
   "file_extension": ".jl",
   "mimetype": "application/julia",
   "name": "julia",
   "version": "1.6.2"
  }
 },
 "nbformat": 4,
 "nbformat_minor": 5
}
