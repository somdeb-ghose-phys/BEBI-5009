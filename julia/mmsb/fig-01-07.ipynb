{
 "cells": [
  {
   "cell_type": "markdown",
   "id": "e18adb3a-3d35-4e76-9974-a4cf05b70839",
   "metadata": {},
   "source": [
    "# Fig 1.07 Collins toggle switch\n",
    "\n",
    "For Figures 1.7, 7.13, 7.14, 7.15"
   ]
  },
  {
   "cell_type": "code",
   "execution_count": 3,
   "id": "6f7236bf-eab0-47fc-9138-5f6e693a4c56",
   "metadata": {},
   "outputs": [
    {
     "data": {
      "text/plain": [
       "Plots.GRBackend()"
      ]
     },
     "execution_count": 3,
     "metadata": {},
     "output_type": "execute_result"
    }
   ],
   "source": [
    "using LinearAlgebra\n",
    "using DifferentialEquations\n",
    "using Parameters\n",
    "using LabelledArrays\n",
    "using Setfield\n",
    "using Plots\n",
    "Plots.gr(fmt=:png, lw=2)"
   ]
  },
  {
   "cell_type": "code",
   "execution_count": 4,
   "id": "341a6dac-72b5-451b-97ab-3aa765c19106",
   "metadata": {},
   "outputs": [
    {
     "data": {
      "text/plain": [
       "exprel (generic function with 1 method)"
      ]
     },
     "execution_count": 4,
     "metadata": {},
     "output_type": "execute_result"
    }
   ],
   "source": [
    "# Convenience functions\n",
    "hill(x, k) = x / (x + k)\n",
    "hill(x, k, n) = hill(x^n, k^n)\n",
    "exprel(x) = ifelse(x≈zero(x), one(x), x / expm1(x))"
   ]
  },
  {
   "cell_type": "code",
   "execution_count": 5,
   "id": "7dfe012a-fd11-437f-8f23-94e823a2dbc2",
   "metadata": {},
   "outputs": [
    {
     "data": {
      "text/plain": [
       "collins! (generic function with 1 method)"
      ]
     },
     "execution_count": 5,
     "metadata": {},
     "output_type": "execute_result"
    }
   ],
   "source": [
    "# The model\n",
    "function collins!(du, u, p, t)\n",
    "    @unpack a1, a2, β, γ, i1, i2 = p\n",
    "    @unpack s1, s2 = u\n",
    "    du.s1 = a1 * hill(1 + i2, s2, β) - s1\n",
    "    du.s2 = a2 * hill(1 + i1, s1, γ) - s2\n",
    "    return du\n",
    "end"
   ]
  },
  {
   "cell_type": "code",
   "execution_count": 6,
   "id": "523e9c6c-cf82-4337-95eb-eeb7dff2f9fd",
   "metadata": {},
   "outputs": [
    {
     "data": {
      "text/plain": [
       "(a1 = 3.0, a2 = 2.5, β = 4.0, γ = 4.0, i1 = 0.0, i2 = 0.0)"
      ]
     },
     "execution_count": 6,
     "metadata": {},
     "output_type": "execute_result"
    }
   ],
   "source": [
    "# Initial conditions\n",
    "u0 = LVector(s1=0.075, s2=2.5)\n",
    "# Simulation time\n",
    "tend = 50.0\n",
    "# Parameters\n",
    "p = (a1 = 3.0, a2 = 2.5, β = 4.0, γ = 4.0, i1 = 0.0, i2 = 0.0)"
   ]
  },
  {
   "cell_type": "code",
   "execution_count": 8,
   "id": "502ec13a-5818-47f4-b42e-135f9743fab6",
   "metadata": {},
   "outputs": [],
   "source": [
    "# Events and callbacks\n",
    "on_i1!(integrator) = integrator.p = @set p.i1 = 10.0\n",
    "off_i1!(integrator) = integrator.p = @set p.i1 = 0.0\n",
    "on_i2!(integrator) = integrator.p = @set p.i2 = 10.0\n",
    "off_i2!(integrator) = integrator.p = @set p.i2 = 0.0\n",
    "\n",
    "cbs = CallbackSet(PresetTimeCallback([10.0], on_i2!),\n",
    "              PresetTimeCallback([20.0], off_i2!),\n",
    "              PresetTimeCallback([30.0], on_i1!),\n",
    "              PresetTimeCallback([40.0], off_i1!));"
   ]
  },
  {
   "cell_type": "code",
   "execution_count": 9,
   "id": "9a5e4b4b-7724-4a97-832b-54803fe8abed",
   "metadata": {},
   "outputs": [
    {
     "data": {
      "text/plain": [
       "retcode: Success\n",
       "Interpolation: automatic order switching interpolation\n",
       "t: 45-element Vector{Float64}:\n",
       "  0.0\n",
       "  0.38548049109061366\n",
       "  1.278631277564115\n",
       "  2.4645385197189382\n",
       "  4.060892379366299\n",
       "  6.199064132574178\n",
       "  9.163105650034959\n",
       " 10.0\n",
       " 10.0\n",
       " 10.904921849264078\n",
       " 11.313096464544294\n",
       " 12.152789063474355\n",
       " 12.780048721204485\n",
       "  ⋮\n",
       " 34.904967806197405\n",
       " 35.81537217092939\n",
       " 36.76276475877523\n",
       " 37.81104671362152\n",
       " 38.97117478277353\n",
       " 40.0\n",
       " 40.0\n",
       " 41.4565502544097\n",
       " 43.01214343626264\n",
       " 45.10756841928746\n",
       " 47.65220330088769\n",
       " 50.0\n",
       "u: 45-element Vector{LArray{Float64, 1, Vector{Float64}, (:s1, :s2)}}:\n",
       " 2-element LArray{Float64, 1, Vector{Float64}, (:s1, :s2)}:\n",
       " :s1 => 0.075\n",
       " :s2 => 2.5\n",
       " 2-element LArray{Float64, 1, Vector{Float64}, (:s1, :s2)}:\n",
       " :s1 => 0.07496310584167308\n",
       " :s2 => 2.4999747263084022\n",
       " 2-element LArray{Float64, 1, Vector{Float64}, (:s1, :s2)}:\n",
       " :s1 => 0.07491895384380051\n",
       " :s2 => 2.499943104160487\n",
       " 2-element LArray{Float64, 1, Vector{Float64}, (:s1, :s2)}:\n",
       " :s1 => 0.07489947360273805\n",
       " :s2 => 2.499927975742232\n",
       " 2-element LArray{Float64, 1, Vector{Float64}, (:s1, :s2)}:\n",
       " :s1 => 0.07489347508796279\n",
       " :s2 => 2.499922722289445\n",
       " 2-element LArray{Float64, 1, Vector{Float64}, (:s1, :s2)}:\n",
       " :s1 => 0.07489238103876011\n",
       " :s2 => 2.499921565722324\n",
       " 2-element LArray{Float64, 1, Vector{Float64}, (:s1, :s2)}:\n",
       " :s1 => 0.07489230549270219\n",
       " :s2 => 2.4999214349680376\n",
       " 2-element LArray{Float64, 1, Vector{Float64}, (:s1, :s2)}:\n",
       " :s1 => 0.07489223296454835\n",
       " :s2 => 2.4999213893330143\n",
       " 2-element LArray{Float64, 1, Vector{Float64}, (:s1, :s2)}:\n",
       " :s1 => 0.07489223296454835\n",
       " :s2 => 2.4999213893330143\n",
       " 2-element LArray{Float64, 1, Vector{Float64}, (:s1, :s2)}:\n",
       " :s1 => 1.813887980664409\n",
       " :s2 => 1.6074951922538663\n",
       " 2-element LArray{Float64, 1, Vector{Float64}, (:s1, :s2)}:\n",
       " :s1 => 2.2111667403472137\n",
       " :s2 => 1.115825797271941\n",
       " 2-element LArray{Float64, 1, Vector{Float64}, (:s1, :s2)}:\n",
       " :s1 => 2.6592483993165983\n",
       " :s2 => 0.518386318840083\n",
       " 2-element LArray{Float64, 1, Vector{Float64}, (:s1, :s2)}:\n",
       " :s1 => 2.8180147483030265\n",
       " :s2 => 0.29677438697327685\n",
       " ⋮\n",
       " 2-element LArray{Float64, 1, Vector{Float64}, (:s1, :s2)}:\n",
       " :s1 => 0.12446616382294008\n",
       " :s2 => 2.4815686597648097\n",
       " 2-element LArray{Float64, 1, Vector{Float64}, (:s1, :s2)}:\n",
       " :s1 => 0.0956353911664989\n",
       " :s2 => 2.492581770663333\n",
       " 2-element LArray{Float64, 1, Vector{Float64}, (:s1, :s2)}:\n",
       " :s1 => 0.0832518447359614\n",
       " :s2 => 2.4971224372237586\n",
       " 2-element LArray{Float64, 1, Vector{Float64}, (:s1, :s2)}:\n",
       " :s1 => 0.07794218497546009\n",
       " :s2 => 2.498990429637063\n",
       " 2-element LArray{Float64, 1, Vector{Float64}, (:s1, :s2)}:\n",
       " :s1 => 0.0758861465510164\n",
       " :s2 => 2.499682949640948\n",
       " 2-element LArray{Float64, 1, Vector{Float64}, (:s1, :s2)}:\n",
       " :s1 => 0.07525537152052156\n",
       " :s2 => 2.499886590014354\n",
       " 2-element LArray{Float64, 1, Vector{Float64}, (:s1, :s2)}:\n",
       " :s1 => 0.07525537152052156\n",
       " :s2 => 2.499886590014354\n",
       " 2-element LArray{Float64, 1, Vector{Float64}, (:s1, :s2)}:\n",
       " :s1 => 0.07497917391391182\n",
       " :s2 => 2.499912661012809\n",
       " 2-element LArray{Float64, 1, Vector{Float64}, (:s1, :s2)}:\n",
       " :s1 => 0.07491123384891929\n",
       " :s2 => 2.4999193716988053\n",
       " 2-element LArray{Float64, 1, Vector{Float64}, (:s1, :s2)}:\n",
       " :s1 => 0.07489514451308567\n",
       " :s2 => 2.4999210438805375\n",
       " 2-element LArray{Float64, 1, Vector{Float64}, (:s1, :s2)}:\n",
       " :s1 => 0.07489273938703639\n",
       " :s2 => 2.499921301318442\n",
       " 2-element LArray{Float64, 1, Vector{Float64}, (:s1, :s2)}:\n",
       " :s1 => 0.07489227301047163\n",
       " :s2 => 2.499921346565671"
      ]
     },
     "execution_count": 9,
     "metadata": {},
     "output_type": "execute_result"
    }
   ],
   "source": [
    "sol = solve(ODEProblem(collins!, u0, tend, p), callback=cbs)"
   ]
  },
  {
   "cell_type": "code",
   "execution_count": 10,
   "id": "39ee7085-9239-40e4-84bc-03e7b297f17d",
   "metadata": {},
   "outputs": [
    {
     "data": {
      "image/png": "[encoded data removed]"
     },
     "execution_count": 10,
     "metadata": {},
     "output_type": "execute_result"
    }
   ],
   "source": [
    "plot(sol, legend=:right, xlabel=\"Time\", ylabel=\"Concentration\", title=\"Figure 1.7\")"
   ]
  }
 ],
 "metadata": {
  "kernelspec": {
   "display_name": "Julia 1.6.2",
   "language": "julia",
   "name": "julia-1.6"
  },
  "language_info": {
   "file_extension": ".jl",
   "mimetype": "application/julia",
   "name": "julia",
   "version": "1.6.2"
  }
 },
 "nbformat": 4,
 "nbformat_minor": 5
}
