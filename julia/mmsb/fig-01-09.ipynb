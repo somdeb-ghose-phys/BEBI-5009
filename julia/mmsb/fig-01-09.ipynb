{
 "cells": [
  {
   "cell_type": "markdown",
   "id": "b8e82f38-7fdb-4208-af49-4d74fed53218",
   "metadata": {},
   "source": [
    "# Fig 1.09 Hodgkin-Huxley model"
   ]
  },
  {
   "cell_type": "code",
   "execution_count": 1,
   "id": "1ae1f5c4-1a5b-42ec-b088-3cb34a07b9e7",
   "metadata": {},
   "outputs": [
    {
     "data": {
      "text/plain": [
       "Plots.GRBackend()"
      ]
     },
     "execution_count": 1,
     "metadata": {},
     "output_type": "execute_result"
    }
   ],
   "source": [
    "using LinearAlgebra\n",
    "using DifferentialEquations\n",
    "using Parameters\n",
    "using LabelledArrays\n",
    "using Setfield\n",
    "\n",
    "using Plots\n",
    "Plots.gr(fmt=:png, lw=2)"
   ]
  },
  {
   "cell_type": "code",
   "execution_count": 2,
   "id": "e9ade6d0-5edc-4bff-ad5d-92c54e01fd8e",
   "metadata": {},
   "outputs": [
    {
     "data": {
      "text/plain": [
       "exprel (generic function with 1 method)"
      ]
     },
     "execution_count": 2,
     "metadata": {},
     "output_type": "execute_result"
    }
   ],
   "source": [
    "hill(x, k) = x / (x + k)\n",
    "hill(x, k, n) = hill(x^n, k^n)\n",
    "exprel(x) = ifelse(x≈zero(x), one(x), x / expm1(x))"
   ]
  },
  {
   "cell_type": "code",
   "execution_count": 3,
   "id": "94f402f3-9d6a-41ef-b0d8-ca5fbb68f4db",
   "metadata": {},
   "outputs": [
    {
     "data": {
      "text/plain": [
       "hh!"
      ]
     },
     "execution_count": 3,
     "metadata": {},
     "output_type": "execute_result"
    }
   ],
   "source": [
    "\"ODE system of HH model\"\n",
    "function hh!(du, u, p, t)\n",
    "    @unpack E_N, E_K, E_LEAK, G_N_BAR, G_K_BAR, G_LEAK, C_M, I_STIM = p\n",
    "    @unpack v, m, h, n = u\n",
    "\n",
    "    mαV = -0.10 * (v + 35)\n",
    "    mα = exprel(mαV)\n",
    "    mβ = 4.0 * exp(-(v + 60) / 18.0)\n",
    "\n",
    "    hα = 0.07 * exp(-(v+60)/20)\n",
    "    hβ = 1 / (exp(-(v+30)/10) + 1)\n",
    "\n",
    "    nαV = -0.1 * (v+50)\n",
    "    nα = 0.1 * exprel(nαV)\n",
    "    nβ = 0.125 * exp( -(v+60) / 80)\n",
    "\n",
    "    iNa = G_N_BAR * (v - E_N) * (m^3) * h\n",
    "    iK  = G_K_BAR * (v - E_K) * (n^4)\n",
    "    iLeak = G_LEAK * (v - E_LEAK)\n",
    "    du.v = -(iNa + iK + iLeak + I_STIM) / C_M\n",
    "    du.m = -(mα + mβ) * m + mα\n",
    "    du.h = -(hα + hβ) * h + hα\n",
    "    du.n = -(nα + nβ) * n + nα\n",
    "    return du\n",
    "end"
   ]
  },
  {
   "cell_type": "code",
   "execution_count": 4,
   "id": "cc90af8d-d3dc-4ea6-b6d5-52a6bc27bef4",
   "metadata": {},
   "outputs": [
    {
     "data": {
      "text/plain": [
       "(E_N = 55.0, E_K = -72.0, E_LEAK = -49.0, G_N_BAR = 120.0, G_K_BAR = 36.0, G_LEAK = 0.3, C_M = 1.0, I_STIM = 0.0)"
      ]
     },
     "execution_count": 4,
     "metadata": {},
     "output_type": "execute_result"
    }
   ],
   "source": [
    "# Parameters for Hodgkin-Huxley model\n",
    "p = (E_N = 55.0,       # Reversal potential of Na (mV)\n",
    "     E_K = -72.0,      # Reversal potential of K (mV)\n",
    "     E_LEAK = -49.0,   # Reversal potential of leaky channels (mV)\n",
    "     G_N_BAR = 120.0,  # Max. Na channel conductance (mS/cm^2)\n",
    "     G_K_BAR = 36.0,   # Max. K channel conductance (mS/cm^2)\n",
    "     G_LEAK = 0.30,    # Max. leak channel conductance (mS/cm^2)\n",
    "     C_M = 1.0,        # membrane capacitance (uF/cm^2)\n",
    "     I_STIM = 0.0     # Stimulus current (uA/cm^2)\n",
    ")"
   ]
  },
  {
   "cell_type": "code",
   "execution_count": 5,
   "id": "2d29e176-6196-4a86-a451-29ed1c11c531",
   "metadata": {},
   "outputs": [],
   "source": [
    "# Events and callbacks\n",
    "on_i1!(integrator) = integrator.p = @set p.I_STIM = -6.80\n",
    "off_i1!(integrator) = integrator.p = @set p.I_STIM = 0.0\n",
    "on_i2!(integrator) = integrator.p = @set p.I_STIM = -6.90\n",
    "\n",
    "cbs = CallbackSet(PresetTimeCallback([20.0], on_i1!),\n",
    "              PresetTimeCallback([21.0, 61.0], off_i1!),\n",
    "              PresetTimeCallback([60.0], on_i2!));"
   ]
  },
  {
   "cell_type": "code",
   "execution_count": 6,
   "id": "6764e9e0-d161-415f-be88-b375a3c0c70b",
   "metadata": {},
   "outputs": [],
   "source": [
    "u0 = LVector(v=-59.8977, m=0.0536, h=0.5925, n=0.3192)\n",
    "tend = 100.0\n",
    "sol = solve(ODEProblem(hh!, u0, tend, p), callback = cbs);"
   ]
  },
  {
   "cell_type": "code",
   "execution_count": 7,
   "id": "4901ff4d-5f94-4f0a-a51a-eff7f71f6910",
   "metadata": {},
   "outputs": [
    {
     "data": {
      "image/png": "[encoded data removed]"
     },
     "execution_count": 7,
     "metadata": {},
     "output_type": "execute_result"
    }
   ],
   "source": [
    "plot(sol, vars=(0, 1),\n",
    "     ylabel=\"Membrane potential (mV)\", xlabel=\"Time (ms)\", \n",
    "     legend=false, title=\"Figure 1.9\")"
   ]
  }
 ],
 "metadata": {
  "kernelspec": {
   "display_name": "Julia 1.6.2",
   "language": "julia",
   "name": "julia-1.6"
  },
  "language_info": {
   "file_extension": ".jl",
   "mimetype": "application/julia",
   "name": "julia",
   "version": "1.6.2"
  }
 },
 "nbformat": 4,
 "nbformat_minor": 5
}
