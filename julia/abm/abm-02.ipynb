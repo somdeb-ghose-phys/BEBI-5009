{
 "cells": [
  {
   "cell_type": "markdown",
   "id": "3aa6d167-bf46-43ce-9a33-c17cfd382c0f",
   "metadata": {},
   "source": [
    "# ABM Example 2: The spread of SARS-CoV-2 (Graph model)\n",
    "\n",
    "[Source](https://juliadynamics.github.io/Agents.jl/stable/examples/sir/) from Agents.jl tutorial\n",
    "\n",
    "Here we add one more category of individuals: those who are infected, but do not know it. Transmission rate for infected and diagnosed individuals is lower than infected and undetected. "
   ]
  },
  {
   "cell_type": "code",
   "execution_count": 1,
   "id": "a462a6d2-642f-4755-a341-d64a115530b7",
   "metadata": {},
   "outputs": [],
   "source": [
    "using Agents\n",
    "using Plots\n",
    "using Random\n",
    "using DataFrames\n",
    "using LightGraphs\n",
    "using Distributions\n",
    "using GraphRecipes\n",
    "using LinearAlgebra: diagind"
   ]
  },
  {
   "cell_type": "code",
   "execution_count": 2,
   "id": "9a44717e-8e98-414e-b937-c7b1e6ffe32a",
   "metadata": {},
   "outputs": [],
   "source": [
    "mutable struct PoorSoul <: AbstractAgent\n",
    "    id::Int\n",
    "    pos::Int            # Which city\n",
    "    days_infected::Int  # number of days since is infected\n",
    "    status::Symbol      # 1: S, 2: I, 3:R\n",
    "end"
   ]
  },
  {
   "cell_type": "code",
   "execution_count": 3,
   "id": "bdcd04fb-2956-4c5e-b82d-740bd5d393c1",
   "metadata": {},
   "outputs": [
    {
     "data": {
      "text/plain": [
       "make_SIRgraph (generic function with 1 method)"
      ]
     },
     "execution_count": 3,
     "metadata": {},
     "output_type": "execute_result"
    }
   ],
   "source": [
    "function make_SIRgraph(;\n",
    "    Ns,\n",
    "    migration_rates,\n",
    "    β_und,\n",
    "    β_det,\n",
    "    infection_period = 30,\n",
    "    reinfection_probability = 0.05,\n",
    "    detection_time = 14,\n",
    "    death_rate = 0.02,\n",
    "    Is = [zeros(Int, length(Ns) - 1)..., 1],\n",
    "    seed = 0,\n",
    ")\n",
    "\n",
    "    rng = MersenneTwister(seed)\n",
    "    @assert length(Ns) ==\n",
    "    length(Is) ==\n",
    "    length(β_und) ==\n",
    "    length(β_det) ==\n",
    "    size(migration_rates, 1) \"length of Ns, Is, and B, and number of rows/columns in migration_rates should be the same \"\n",
    "    @assert size(migration_rates, 1) == size(migration_rates, 2) \"migration_rates rates should be a square matrix\"\n",
    "\n",
    "    C = length(Ns) # Number of cities\n",
    "\t\n",
    "    # normalize migration_rates\n",
    "    migration_rates_sum = sum(migration_rates, dims = 2)\n",
    "    for c in 1:C\n",
    "        migration_rates[c, :] ./= migration_rates_sum[c]\n",
    "    end\n",
    "\n",
    "    properties = (;\n",
    "        Ns,\n",
    "        Is,\n",
    "        β_und,\n",
    "        β_det,\n",
    "        migration_rates,\n",
    "        infection_period,\n",
    "        reinfection_probability,\n",
    "        detection_time,\n",
    "        C,\n",
    "        death_rate\n",
    "    )\n",
    "\t\n",
    "\t\n",
    "    space = GraphSpace(complete_digraph(C))\n",
    "    model = ABM(PoorSoul, space; properties, rng)\n",
    "\n",
    "    # Add initial individuals\n",
    "    for city in 1:C, n in 1:Ns[city]\n",
    "        ind = add_agent!(city, model, 0, :S) # Susceptible\n",
    "    end\n",
    "    # add infected individuals\n",
    "    for city in 1:C\n",
    "        inds = ids_in_position(city, model)\n",
    "        for n in 1:Is[city]\n",
    "            agent = model[inds[n]]\n",
    "            agent.status = :I # Infected\n",
    "            agent.days_infected = 1\n",
    "        end\n",
    "    end\n",
    "    return model\n",
    "end"
   ]
  },
  {
   "cell_type": "code",
   "execution_count": 4,
   "id": "245fcf2c-da7f-42e2-9eec-a8d9ad92dc66",
   "metadata": {},
   "outputs": [
    {
     "data": {
      "text/plain": [
       "make_SIRgraphParams (generic function with 1 method)"
      ]
     },
     "execution_count": 4,
     "metadata": {},
     "output_type": "execute_result"
    }
   ],
   "source": [
    "function make_SIRgraphParams(;\n",
    "\tC,\n",
    "    max_travel_rate,\n",
    "    infection_period = 30,\n",
    "    reinfection_probability = 0.05,\n",
    "    detection_time = 14,\n",
    "    death_rate = 0.02,\n",
    "    Is = [zeros(Int, C - 1)..., 1],\n",
    "    seed = 19,\n",
    ")\n",
    "\t# For reproducibility\n",
    "\tRandom.seed!(seed)\n",
    "\t\n",
    "\t# City population\n",
    "    Ns = rand(50:5000, C)\n",
    "\t\n",
    "\t# Undetected transmission\n",
    "    β_und = rand(0.3:0.02:0.6, C)\n",
    "\t\n",
    "\t# Detected transmission (10% of undetected)\n",
    "    β_det = β_und ./ 10\n",
    "\t\n",
    "\t# Migrate from city i to city j\n",
    "\t# People in small cities tend to migrate to bigger cities\n",
    "\tmigration_rates = zeros(C, C)\n",
    "    for c in 1:C, c2 in 1:C\n",
    "        migration_rates[c, c2] = (Ns[c] + Ns[c2]) / Ns[c]\n",
    "    end\n",
    "\t\n",
    "\t# Normalize migration rates\n",
    "\tmaxM = maximum(migration_rates)\n",
    "    migration_rates = (migration_rates .* max_travel_rate) ./ maxM\n",
    "\t\n",
    "\t# Migrate to self = 1\n",
    "    migration_rates[diagind(migration_rates)] .= 1.0\n",
    "\t\n",
    "\treturn (; Ns,\n",
    "        β_und,\n",
    "        β_det,\n",
    "        migration_rates,\n",
    "        infection_period,\n",
    "        reinfection_probability,\n",
    "        detection_time,\n",
    "        death_rate,\n",
    "        Is)\n",
    "end"
   ]
  },
  {
   "cell_type": "code",
   "execution_count": 5,
   "id": "59d049a3-adb6-4710-bd1b-f123f87a68f8",
   "metadata": {},
   "outputs": [
    {
     "data": {
      "text/plain": [
       "(Ns = [4148, 1355, 4929, 160, 3079, 77, 3729, 2043], β_und = [0.34, 0.36, 0.5, 0.36, 0.4, 0.48, 0.42, 0.48], β_det = [0.034, 0.036, 0.05, 0.036, 0.04, 0.048, 0.041999999999999996, 0.048], migration_rates = [1.0 0.00020406129809127796 … 0.0002920935571624562 0.00022957359558115601; 0.0006246835900240745 1.0 … 0.0005771200021229137 0.00038573048135595215; … ; 0.00032491393808256055 0.0002097070536005761 … 1.0 0.00023808597824203875; 0.00046611418231553366 0.0002558320128425429 … 0.0004345680924447198 1.0], infection_period = 30, reinfection_probability = 0.05, detection_time = 14, death_rate = 0.02, Is = [0, 0, 0, 0, 0, 0, 0, 1])"
      ]
     },
     "execution_count": 5,
     "metadata": {},
     "output_type": "execute_result"
    }
   ],
   "source": [
    "SIRgraphparams = make_SIRgraphParams(C = 8, max_travel_rate = 0.01)"
   ]
  },
  {
   "cell_type": "code",
   "execution_count": 6,
   "id": "7e24322f-8169-4a39-8dab-35f50c7cb550",
   "metadata": {},
   "outputs": [
    {
     "data": {
      "text/plain": [
       "migrate! (generic function with 1 method)"
      ]
     },
     "execution_count": 6,
     "metadata": {},
     "output_type": "execute_result"
    }
   ],
   "source": [
    "function migrate!(agent, model)\n",
    "    pid = agent.pos\n",
    "    d = DiscreteNonParametric(1:(model.C), model.migration_rates[pid, :])\n",
    "    m = rand(model.rng, d)\n",
    "    if m ≠ pid\n",
    "        move_agent!(agent, m, model)\n",
    "    end\n",
    "end"
   ]
  },
  {
   "cell_type": "code",
   "execution_count": 7,
   "id": "c41855ca-4948-40ac-b84a-62fb0c094168",
   "metadata": {},
   "outputs": [
    {
     "data": {
      "text/plain": [
       "transmit! (generic function with 1 method)"
      ]
     },
     "execution_count": 7,
     "metadata": {},
     "output_type": "execute_result"
    }
   ],
   "source": [
    "function transmit!(agent, model)\n",
    "    agent.status == :S && return\n",
    "    rate = if agent.days_infected < model.detection_time\n",
    "        model.β_und[agent.pos]\n",
    "    else\n",
    "        model.β_det[agent.pos]\n",
    "    end\n",
    "\n",
    "    d = Poisson(rate)\n",
    "    n = rand(model.rng, d)\n",
    "    n == 0 && return\n",
    "\n",
    "    for contactID in ids_in_position(agent, model)\n",
    "        contact = model[contactID]\n",
    "        if contact.status == :S ||\n",
    "           (contact.status == :R && rand(model.rng) ≤ model.reinfection_probability)\n",
    "            contact.status = :I\n",
    "            n -= 1\n",
    "            n == 0 && return\n",
    "        end\n",
    "    end\n",
    "end"
   ]
  },
  {
   "cell_type": "code",
   "execution_count": 8,
   "id": "20a82dc7-0292-4170-9bc4-23e037d17a31",
   "metadata": {},
   "outputs": [
    {
     "data": {
      "text/plain": [
       "update! (generic function with 1 method)"
      ]
     },
     "execution_count": 8,
     "metadata": {},
     "output_type": "execute_result"
    }
   ],
   "source": [
    "update!(agent, model) = agent.status == :I && (agent.days_infected += 1)"
   ]
  },
  {
   "cell_type": "code",
   "execution_count": 9,
   "id": "7ba4cf08-34d0-4a28-909d-4f35a921ce5d",
   "metadata": {},
   "outputs": [
    {
     "data": {
      "text/plain": [
       "recover_or_die! (generic function with 1 method)"
      ]
     },
     "execution_count": 9,
     "metadata": {},
     "output_type": "execute_result"
    }
   ],
   "source": [
    "function recover_or_die!(agent, model)\n",
    "    if agent.days_infected ≥ model.infection_period\n",
    "        if rand(model.rng) ≤ model.death_rate\n",
    "            kill_agent!(agent, model)\n",
    "        else\n",
    "            agent.status = :R\n",
    "            agent.days_infected = 0\n",
    "        end\n",
    "    end\n",
    "end"
   ]
  },
  {
   "cell_type": "code",
   "execution_count": 10,
   "id": "3a50b8e3-b36c-476e-a030-ddbe9b714b0b",
   "metadata": {},
   "outputs": [
    {
     "data": {
      "text/plain": [
       "agent_step! (generic function with 1 method)"
      ]
     },
     "execution_count": 10,
     "metadata": {},
     "output_type": "execute_result"
    }
   ],
   "source": [
    "function agent_step!(agent::PoorSoul, model)\n",
    "    migrate!(agent, model)\n",
    "    transmit!(agent, model)\n",
    "    update!(agent, model)\n",
    "    recover_or_die!(agent, model)\n",
    "end"
   ]
  },
  {
   "cell_type": "code",
   "execution_count": 11,
   "id": "e3707a14-3013-469c-9fdd-eff7a42ddc0c",
   "metadata": {},
   "outputs": [
    {
     "data": {
      "text/plain": [
       "AgentBasedModel with 19520 agents of type PoorSoul\n",
       " space: GraphSpace with 8 positions and 56 edges\n",
       " scheduler: fastest\n",
       " properties: Ns, Is, β_und, β_det, migration_rates, infection_period, reinfection_probability, detection_time, C, death_rate"
      ]
     },
     "execution_count": 11,
     "metadata": {},
     "output_type": "execute_result"
    }
   ],
   "source": [
    "model = make_SIRgraph(; SIRgraphparams...)"
   ]
  },
  {
   "cell_type": "code",
   "execution_count": 12,
   "id": "dadd8b84-b9c7-46d3-9230-9efe7ecdc2dc",
   "metadata": {},
   "outputs": [
    {
     "data": {
      "text/plain": [
       "Animation(\"/tmp/jl_KePmED\", [\"000001.png\", \"000002.png\", \"000003.png\", \"000004.png\", \"000005.png\", \"000006.png\", \"000007.png\", \"000008.png\", \"000009.png\", \"000010.png\"  …  \"000031.png\", \"000032.png\", \"000033.png\", \"000034.png\", \"000035.png\", \"000036.png\", \"000037.png\", \"000038.png\", \"000039.png\", \"000040.png\"])"
      ]
     },
     "execution_count": 12,
     "metadata": {},
     "output_type": "execute_result"
    }
   ],
   "source": [
    "anim = @animate for i in 1:40\n",
    "    Agents.step!(model, agent_step!, 1)\n",
    "\n",
    "\n",
    "    cityPops = length.(model.space.s)\n",
    "    xs = 1:length(cityPops)\n",
    "    infected = map(x -> count(model[id].status == :I for id in x), model.space.s)\n",
    "    infectedTotal = sum(infected)\n",
    "\n",
    "\n",
    "    pl = bar(xs, cityPops, label=\"Total\")\n",
    "    bar!(pl, xs, infected, label=\"Infected\", \n",
    "         xlabel=\"City\", ylabel=\"Population\",\n",
    "         title = \"Step $i: $infectedTotal infected\"\n",
    "    )\n",
    "end"
   ]
  },
  {
   "cell_type": "code",
   "execution_count": 13,
   "id": "2f948872-d711-481d-b5b9-b8adf3d877da",
   "metadata": {},
   "outputs": [
    {
     "name": "stderr",
     "output_type": "stream",
     "text": [
      "┌ Info: Saved animation to \n",
      "│   fn = /home/ubuntu/BEBI-5009/julia/abm/tmp.mp4\n",
      "└ @ Plots /home/ubuntu/.julia/packages/Plots/HcxwM/src/animation.jl:114\n"
     ]
    },
    {
     "data": {
      "text/html": [
       "<video controls><source src=\"data:video/mp4;base64,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\" type = \"video/mp4\"></video>"
      ],
      "text/plain": [
       "Plots.AnimatedGif(\"/home/ubuntu/BEBI-5009/julia/abm/tmp.mp4\")"
      ]
     },
     "execution_count": 13,
     "metadata": {},
     "output_type": "execute_result"
    }
   ],
   "source": [
    "mp4(anim, fps = 5)"
   ]
  },
  {
   "cell_type": "code",
   "execution_count": null,
   "id": "ecb0489b-88ab-4bea-bebd-05ad8c9e790f",
   "metadata": {},
   "outputs": [],
   "source": []
  }
 ],
 "metadata": {
  "kernelspec": {
   "display_name": "Julia 1.6.2",
   "language": "julia",
   "name": "julia-1.6"
  },
  "language_info": {
   "file_extension": ".jl",
   "mimetype": "application/julia",
   "name": "julia",
   "version": "1.6.2"
  }
 },
 "nbformat": 4,
 "nbformat_minor": 5
}
