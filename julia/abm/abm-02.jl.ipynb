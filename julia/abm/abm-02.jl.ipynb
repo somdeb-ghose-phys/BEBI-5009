{
 "cells": [
  {
   "cell_type": "markdown",
   "id": "3aa6d167-bf46-43ce-9a33-c17cfd382c0f",
   "metadata": {},
   "source": [
    "# ABM Example 2: The spread of SARS-CoV-2 (Graph model)\n",
    "\n",
    "[Source](https://juliadynamics.github.io/Agents.jl/stable/examples/sir/) from Agents.jl tutorial\n",
    "\n",
    "Here we add one more category of individuals: those who are infected, but do not know it. Transmission rate for infected and diagnosed individuals is lower than infected and undetected. "
   ]
  },
  {
   "cell_type": "code",
   "execution_count": 4,
   "id": "a462a6d2-642f-4755-a341-d64a115530b7",
   "metadata": {},
   "outputs": [],
   "source": [
    "using Agents\n",
    "using Plots\n",
    "using Random\n",
    "using DataFrames\n",
    "using LightGraphs\n",
    "using Distributions\n",
    "using GraphRecipes\n",
    "using LinearAlgebra: diagind"
   ]
  },
  {
   "cell_type": "code",
   "execution_count": 5,
   "id": "9a44717e-8e98-414e-b937-c7b1e6ffe32a",
   "metadata": {},
   "outputs": [],
   "source": [
    "mutable struct PoorSoul <: AbstractAgent\n",
    "    id::Int\n",
    "    pos::Int            # Which city\n",
    "    days_infected::Int  # number of days since is infected\n",
    "    status::Symbol      # 1: S, 2: I, 3:R\n",
    "end"
   ]
  },
  {
   "cell_type": "code",
   "execution_count": 6,
   "id": "bdcd04fb-2956-4c5e-b82d-740bd5d393c1",
   "metadata": {},
   "outputs": [
    {
     "data": {
      "text/plain": [
       "make_SIRgraph (generic function with 1 method)"
      ]
     },
     "execution_count": 6,
     "metadata": {},
     "output_type": "execute_result"
    }
   ],
   "source": [
    "function make_SIRgraph(;\n",
    "    Ns,\n",
    "    migration_rates,\n",
    "    β_und,\n",
    "    β_det,\n",
    "    infection_period = 30,\n",
    "    reinfection_probability = 0.05,\n",
    "    detection_time = 14,\n",
    "    death_rate = 0.02,\n",
    "    Is = [zeros(Int, length(Ns) - 1)..., 1],\n",
    "    seed = 0,\n",
    ")\n",
    "\n",
    "    rng = MersenneTwister(seed)\n",
    "    @assert length(Ns) ==\n",
    "    length(Is) ==\n",
    "    length(β_und) ==\n",
    "    length(β_det) ==\n",
    "    size(migration_rates, 1) \"length of Ns, Is, and B, and number of rows/columns in migration_rates should be the same \"\n",
    "    @assert size(migration_rates, 1) == size(migration_rates, 2) \"migration_rates rates should be a square matrix\"\n",
    "\n",
    "    C = length(Ns) # Number of cities\n",
    "\t\n",
    "    # normalize migration_rates\n",
    "    migration_rates_sum = sum(migration_rates, dims = 2)\n",
    "    for c in 1:C\n",
    "        migration_rates[c, :] ./= migration_rates_sum[c]\n",
    "    end\n",
    "\n",
    "    properties = (;\n",
    "        Ns,\n",
    "        Is,\n",
    "        β_und,\n",
    "        β_det,\n",
    "        migration_rates,\n",
    "        infection_period,\n",
    "        reinfection_probability,\n",
    "        detection_time,\n",
    "        C,\n",
    "        death_rate\n",
    "    )\n",
    "\t\n",
    "\t\n",
    "    space = GraphSpace(complete_digraph(C))\n",
    "    model = ABM(PoorSoul, space; properties, rng)\n",
    "\n",
    "    # Add initial individuals\n",
    "    for city in 1:C, n in 1:Ns[city]\n",
    "        ind = add_agent!(city, model, 0, :S) # Susceptible\n",
    "    end\n",
    "    # add infected individuals\n",
    "    for city in 1:C\n",
    "        inds = ids_in_position(city, model)\n",
    "        for n in 1:Is[city]\n",
    "            agent = model[inds[n]]\n",
    "            agent.status = :I # Infected\n",
    "            agent.days_infected = 1\n",
    "        end\n",
    "    end\n",
    "    return model\n",
    "end"
   ]
  },
  {
   "cell_type": "code",
   "execution_count": 7,
   "id": "245fcf2c-da7f-42e2-9eec-a8d9ad92dc66",
   "metadata": {},
   "outputs": [
    {
     "data": {
      "text/plain": [
       "make_SIRgraphParams (generic function with 1 method)"
      ]
     },
     "execution_count": 7,
     "metadata": {},
     "output_type": "execute_result"
    }
   ],
   "source": [
    "function make_SIRgraphParams(;\n",
    "\tC,\n",
    "    max_travel_rate,\n",
    "    infection_period = 30,\n",
    "    reinfection_probability = 0.05,\n",
    "    detection_time = 14,\n",
    "    death_rate = 0.02,\n",
    "    Is = [zeros(Int, C - 1)..., 1],\n",
    "    seed = 19,\n",
    ")\n",
    "\t# For reproducibility\n",
    "\tRandom.seed!(seed)\n",
    "\t\n",
    "\t# City population\n",
    "    Ns = rand(50:5000, C)\n",
    "\t\n",
    "\t# Undetected transmission\n",
    "    β_und = rand(0.3:0.02:0.6, C)\n",
    "\t\n",
    "\t# Detected transmission (10% of undetected)\n",
    "    β_det = β_und ./ 10\n",
    "\t\n",
    "\t# Migrate from city i to city j\n",
    "\t# People in small cities tend to migrate to bigger cities\n",
    "\tmigration_rates = zeros(C, C)\n",
    "    for c in 1:C, c2 in 1:C\n",
    "        migration_rates[c, c2] = (Ns[c] + Ns[c2]) / Ns[c]\n",
    "    end\n",
    "\t\n",
    "\t# Normalize migration rates\n",
    "\tmaxM = maximum(migration_rates)\n",
    "    migration_rates = (migration_rates .* max_travel_rate) ./ maxM\n",
    "\t\n",
    "\t# Migrate to self = 1\n",
    "    migration_rates[diagind(migration_rates)] .= 1.0\n",
    "\t\n",
    "\treturn (; Ns,\n",
    "        β_und,\n",
    "        β_det,\n",
    "        migration_rates,\n",
    "        infection_period,\n",
    "        reinfection_probability,\n",
    "        detection_time,\n",
    "        death_rate,\n",
    "        Is)\n",
    "end"
   ]
  },
  {
   "cell_type": "code",
   "execution_count": 8,
   "id": "59d049a3-adb6-4710-bd1b-f123f87a68f8",
   "metadata": {},
   "outputs": [
    {
     "data": {
      "text/plain": [
       "(Ns = [4148, 1355, 4929, 160, 3079, 77, 3729, 2043], β_und = [0.34, 0.36, 0.5, 0.36, 0.4, 0.48, 0.42, 0.48], β_det = [0.034, 0.036, 0.05, 0.036, 0.04, 0.048, 0.041999999999999996, 0.048], migration_rates = [1.0 0.00020406129809127796 … 0.0002920935571624562 0.00022957359558115601; 0.0006246835900240745 1.0 … 0.0005771200021229137 0.00038573048135595215; … ; 0.00032491393808256055 0.0002097070536005761 … 1.0 0.00023808597824203875; 0.00046611418231553366 0.0002558320128425429 … 0.0004345680924447198 1.0], infection_period = 30, reinfection_probability = 0.05, detection_time = 14, death_rate = 0.02, Is = [0, 0, 0, 0, 0, 0, 0, 1])"
      ]
     },
     "execution_count": 8,
     "metadata": {},
     "output_type": "execute_result"
    }
   ],
   "source": [
    "SIRgraphparams = make_SIRgraphParams(C = 8, max_travel_rate = 0.01)"
   ]
  },
  {
   "cell_type": "code",
   "execution_count": 9,
   "id": "7e24322f-8169-4a39-8dab-35f50c7cb550",
   "metadata": {},
   "outputs": [
    {
     "data": {
      "text/plain": [
       "migrate! (generic function with 1 method)"
      ]
     },
     "execution_count": 9,
     "metadata": {},
     "output_type": "execute_result"
    }
   ],
   "source": [
    "function migrate!(agent, model)\n",
    "    pid = agent.pos\n",
    "    d = DiscreteNonParametric(1:(model.C), model.migration_rates[pid, :])\n",
    "    m = rand(model.rng, d)\n",
    "    if m ≠ pid\n",
    "        move_agent!(agent, m, model)\n",
    "    end\n",
    "end"
   ]
  },
  {
   "cell_type": "code",
   "execution_count": 10,
   "id": "c41855ca-4948-40ac-b84a-62fb0c094168",
   "metadata": {},
   "outputs": [
    {
     "data": {
      "text/plain": [
       "transmit! (generic function with 1 method)"
      ]
     },
     "execution_count": 10,
     "metadata": {},
     "output_type": "execute_result"
    }
   ],
   "source": [
    "function transmit!(agent, model)\n",
    "    agent.status == :S && return\n",
    "    rate = if agent.days_infected < model.detection_time\n",
    "        model.β_und[agent.pos]\n",
    "    else\n",
    "        model.β_det[agent.pos]\n",
    "    end\n",
    "\n",
    "    d = Poisson(rate)\n",
    "    n = rand(model.rng, d)\n",
    "    n == 0 && return\n",
    "\n",
    "    for contactID in ids_in_position(agent, model)\n",
    "        contact = model[contactID]\n",
    "        if contact.status == :S ||\n",
    "           (contact.status == :R && rand(model.rng) ≤ model.reinfection_probability)\n",
    "            contact.status = :I\n",
    "            n -= 1\n",
    "            n == 0 && return\n",
    "        end\n",
    "    end\n",
    "end"
   ]
  },
  {
   "cell_type": "code",
   "execution_count": 11,
   "id": "20a82dc7-0292-4170-9bc4-23e037d17a31",
   "metadata": {},
   "outputs": [
    {
     "data": {
      "text/plain": [
       "update! (generic function with 1 method)"
      ]
     },
     "execution_count": 11,
     "metadata": {},
     "output_type": "execute_result"
    }
   ],
   "source": [
    "update!(agent, model) = agent.status == :I && (agent.days_infected += 1)"
   ]
  },
  {
   "cell_type": "code",
   "execution_count": 13,
   "id": "7ba4cf08-34d0-4a28-909d-4f35a921ce5d",
   "metadata": {},
   "outputs": [
    {
     "data": {
      "text/plain": [
       "recover_or_die! (generic function with 1 method)"
      ]
     },
     "execution_count": 13,
     "metadata": {},
     "output_type": "execute_result"
    }
   ],
   "source": [
    "function recover_or_die!(agent, model)\n",
    "    if agent.days_infected ≥ model.infection_period\n",
    "        if rand(model.rng) ≤ model.death_rate\n",
    "            kill_agent!(agent, model)\n",
    "        else\n",
    "            agent.status = :R\n",
    "            agent.days_infected = 0\n",
    "        end\n",
    "    end\n",
    "end"
   ]
  },
  {
   "cell_type": "code",
   "execution_count": 14,
   "id": "3a50b8e3-b36c-476e-a030-ddbe9b714b0b",
   "metadata": {},
   "outputs": [
    {
     "data": {
      "text/plain": [
       "agent_step! (generic function with 1 method)"
      ]
     },
     "execution_count": 14,
     "metadata": {},
     "output_type": "execute_result"
    }
   ],
   "source": [
    "function agent_step!(agent::PoorSoul, model)\n",
    "    migrate!(agent, model)\n",
    "    transmit!(agent, model)\n",
    "    update!(agent, model)\n",
    "    recover_or_die!(agent, model)\n",
    "end"
   ]
  },
  {
   "cell_type": "code",
   "execution_count": 15,
   "id": "e3707a14-3013-469c-9fdd-eff7a42ddc0c",
   "metadata": {},
   "outputs": [
    {
     "data": {
      "text/plain": [
       "AgentBasedModel with 19520 agents of type PoorSoul\n",
       " space: GraphSpace with 8 positions and 56 edges\n",
       " scheduler: fastest\n",
       " properties: Ns, Is, β_und, β_det, migration_rates, infection_period, reinfection_probability, detection_time, C, death_rate"
      ]
     },
     "execution_count": 15,
     "metadata": {},
     "output_type": "execute_result"
    }
   ],
   "source": [
    "model = make_SIRgraph(; SIRgraphparams...)"
   ]
  },
  {
   "cell_type": "code",
   "execution_count": 16,
   "id": "dadd8b84-b9c7-46d3-9230-9efe7ecdc2dc",
   "metadata": {},
   "outputs": [
    {
     "data": {
      "text/plain": [
       "Animation(\"C:\\\\Users\\\\SOSIRI~1\\\\AppData\\\\Local\\\\Temp\\\\jl_4ZoKLQ\", [\"000001.png\", \"000002.png\", \"000003.png\", \"000004.png\", \"000005.png\", \"000006.png\", \"000007.png\", \"000008.png\", \"000009.png\", \"000010.png\"  …  \"000031.png\", \"000032.png\", \"000033.png\", \"000034.png\", \"000035.png\", \"000036.png\", \"000037.png\", \"000038.png\", \"000039.png\", \"000040.png\"])"
      ]
     },
     "execution_count": 16,
     "metadata": {},
     "output_type": "execute_result"
    }
   ],
   "source": [
    "anim = @animate for i in 1:40\n",
    "    Agents.step!(model, agent_step!, 1)\n",
    "\n",
    "\n",
    "    cityPops = length.(model.space.s)\n",
    "    xs = 1:length(cityPops)\n",
    "    infected = map(x -> count(model[id].status == :I for id in x), model.space.s)\n",
    "    infectedTotal = sum(infected)\n",
    "\n",
    "\n",
    "    pl = bar(xs, cityPops, label=\"Total\")\n",
    "    bar!(pl, xs, infected, label=\"Infected\", \n",
    "         xlabel=\"City\", ylabel=\"Population\",\n",
    "         title = \"Step $i: $infectedTotal infected\"\n",
    "    )\n",
    "end"
   ]
  },
  {
   "cell_type": "code",
   "execution_count": 17,
   "id": "2f948872-d711-481d-b5b9-b8adf3d877da",
   "metadata": {},
   "outputs": [
    {
     "name": "stderr",
     "output_type": "stream",
     "text": [
      "┌ Info: Saved animation to \n",
      "│   fn = D:\\github\\BEBI-5009\\julia\\abm\\tmp.mp4\n",
      "└ @ Plots C:\\Users\\sosiristseng\\.julia\\packages\\Plots\\OchXa\\src\\animation.jl:104\n"
     ]
    },
    {
     "data": {
      "text/html": [
       "<video controls><source src=\"data:video/mp4;base64,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\" type = \"video/mp4\"></video>"
      ],
      "text/plain": [
       "Plots.AnimatedGif(\"D:\\\\github\\\\BEBI-5009\\\\julia\\\\abm\\\\tmp.mp4\")"
      ]
     },
     "execution_count": 17,
     "metadata": {},
     "output_type": "execute_result"
    }
   ],
   "source": [
    "mp4(anim, fps = 5)"
   ]
  },
  {
   "cell_type": "code",
   "execution_count": null,
   "id": "ecb0489b-88ab-4bea-bebd-05ad8c9e790f",
   "metadata": {},
   "outputs": [],
   "source": []
  }
 ],
 "metadata": {
  "kernelspec": {
   "display_name": "Julia 1.6.2",
   "language": "julia",
   "name": "julia-1.6"
  },
  "language_info": {
   "file_extension": ".jl",
   "mimetype": "application/julia",
   "name": "julia",
   "version": "1.6.2"
  }
 },
 "nbformat": 4,
 "nbformat_minor": 5
}
